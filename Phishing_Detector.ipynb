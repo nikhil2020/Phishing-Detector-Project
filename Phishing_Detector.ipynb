{
  "nbformat": 4,
  "nbformat_minor": 0,
  "metadata": {
    "colab": {
      "name": "Phishing_Detector.ipynb",
      "provenance": [],
      "authorship_tag": "ABX9TyOOiimUtzjVKVaByvuZeW3T",
      "include_colab_link": true
    },
    "kernelspec": {
      "name": "python3",
      "display_name": "Python 3"
    }
  },
  "cells": [
    {
      "cell_type": "markdown",
      "metadata": {
        "id": "view-in-github",
        "colab_type": "text"
      },
      "source": [
        "<a href=\"https://colab.research.google.com/github/nikhil2020/Phishing-Detector-Project/blob/master/Phishing_Detector.ipynb\" target=\"_parent\"><img src=\"https://colab.research.google.com/assets/colab-badge.svg\" alt=\"Open In Colab\"/></a>"
      ]
    },
    {
      "cell_type": "code",
      "metadata": {
        "id": "9CNOKoxY52F-",
        "colab_type": "code",
        "colab": {}
      },
      "source": [
        ""
      ],
      "execution_count": null,
      "outputs": []
    },
    {
      "cell_type": "code",
      "metadata": {
        "id": "3kO5_Wk-6CYY",
        "colab_type": "code",
        "colab": {
          "base_uri": "https://localhost:8080/",
          "height": 122
        },
        "outputId": "d6bf9b4d-9457-49bf-c880-7165b07fb4bb"
      },
      "source": [
        "from google.colab import drive\n",
        "drive.mount('/content/drive')"
      ],
      "execution_count": null,
      "outputs": [
        {
          "output_type": "stream",
          "text": [
            "Go to this URL in a browser: https://accounts.google.com/o/oauth2/auth?client_id=947318989803-6bn6qk8qdgf4n4g3pfee6491hc0brc4i.apps.googleusercontent.com&redirect_uri=urn%3aietf%3awg%3aoauth%3a2.0%3aoob&response_type=code&scope=email%20https%3a%2f%2fwww.googleapis.com%2fauth%2fdocs.test%20https%3a%2f%2fwww.googleapis.com%2fauth%2fdrive%20https%3a%2f%2fwww.googleapis.com%2fauth%2fdrive.photos.readonly%20https%3a%2f%2fwww.googleapis.com%2fauth%2fpeopleapi.readonly\n",
            "\n",
            "Enter your authorization code:\n",
            "··········\n",
            "Mounted at /content/drive\n"
          ],
          "name": "stdout"
        }
      ]
    },
    {
      "cell_type": "code",
      "metadata": {
        "id": "S_R-natb6DCG",
        "colab_type": "code",
        "colab": {}
      },
      "source": [
        "## Importing the libraries\n",
        "import numpy as np\n",
        "import pandas as pd\n",
        "import matplotlib.pyplot as plt\n",
        "import warnings\n",
        "warnings.filterwarnings('ignore')\n",
        "import seaborn as sns\n"
      ],
      "execution_count": null,
      "outputs": []
    },
    {
      "cell_type": "code",
      "metadata": {
        "id": "DHE3QAnK6YDo",
        "colab_type": "code",
        "colab": {}
      },
      "source": [
        "import os\n",
        "os.chdir(\"/content/drive/My Drive/Datasets/Phising_detector\")"
      ],
      "execution_count": null,
      "outputs": []
    },
    {
      "cell_type": "code",
      "metadata": {
        "id": "3050KxVu6Sis",
        "colab_type": "code",
        "colab": {}
      },
      "source": [
        "data = pd.read_csv('phishing.txt',header =None)"
      ],
      "execution_count": null,
      "outputs": []
    },
    {
      "cell_type": "code",
      "metadata": {
        "id": "TdZ5374T6Vx5",
        "colab_type": "code",
        "colab": {
          "base_uri": "https://localhost:8080/",
          "height": 204
        },
        "outputId": "600acae6-ada9-42e9-d18a-037fd1fec7e8"
      },
      "source": [
        "data.head()"
      ],
      "execution_count": null,
      "outputs": [
        {
          "output_type": "execute_result",
          "data": {
            "text/html": [
              "<div>\n",
              "<style scoped>\n",
              "    .dataframe tbody tr th:only-of-type {\n",
              "        vertical-align: middle;\n",
              "    }\n",
              "\n",
              "    .dataframe tbody tr th {\n",
              "        vertical-align: top;\n",
              "    }\n",
              "\n",
              "    .dataframe thead th {\n",
              "        text-align: right;\n",
              "    }\n",
              "</style>\n",
              "<table border=\"1\" class=\"dataframe\">\n",
              "  <thead>\n",
              "    <tr style=\"text-align: right;\">\n",
              "      <th></th>\n",
              "      <th>0</th>\n",
              "      <th>1</th>\n",
              "      <th>2</th>\n",
              "      <th>3</th>\n",
              "      <th>4</th>\n",
              "      <th>5</th>\n",
              "      <th>6</th>\n",
              "      <th>7</th>\n",
              "      <th>8</th>\n",
              "      <th>9</th>\n",
              "      <th>10</th>\n",
              "      <th>11</th>\n",
              "      <th>12</th>\n",
              "      <th>13</th>\n",
              "      <th>14</th>\n",
              "      <th>15</th>\n",
              "      <th>16</th>\n",
              "      <th>17</th>\n",
              "      <th>18</th>\n",
              "      <th>19</th>\n",
              "      <th>20</th>\n",
              "      <th>21</th>\n",
              "      <th>22</th>\n",
              "      <th>23</th>\n",
              "      <th>24</th>\n",
              "      <th>25</th>\n",
              "      <th>26</th>\n",
              "      <th>27</th>\n",
              "      <th>28</th>\n",
              "      <th>29</th>\n",
              "      <th>30</th>\n",
              "    </tr>\n",
              "  </thead>\n",
              "  <tbody>\n",
              "    <tr>\n",
              "      <th>0</th>\n",
              "      <td>-1</td>\n",
              "      <td>1</td>\n",
              "      <td>1</td>\n",
              "      <td>1</td>\n",
              "      <td>-1</td>\n",
              "      <td>-1</td>\n",
              "      <td>-1</td>\n",
              "      <td>-1</td>\n",
              "      <td>-1</td>\n",
              "      <td>1</td>\n",
              "      <td>1</td>\n",
              "      <td>-1</td>\n",
              "      <td>1</td>\n",
              "      <td>-1</td>\n",
              "      <td>1</td>\n",
              "      <td>-1</td>\n",
              "      <td>-1</td>\n",
              "      <td>-1</td>\n",
              "      <td>0</td>\n",
              "      <td>1</td>\n",
              "      <td>1</td>\n",
              "      <td>1</td>\n",
              "      <td>1</td>\n",
              "      <td>-1</td>\n",
              "      <td>-1</td>\n",
              "      <td>-1</td>\n",
              "      <td>-1</td>\n",
              "      <td>1</td>\n",
              "      <td>1</td>\n",
              "      <td>-1</td>\n",
              "      <td>-1</td>\n",
              "    </tr>\n",
              "    <tr>\n",
              "      <th>1</th>\n",
              "      <td>1</td>\n",
              "      <td>1</td>\n",
              "      <td>1</td>\n",
              "      <td>1</td>\n",
              "      <td>1</td>\n",
              "      <td>-1</td>\n",
              "      <td>0</td>\n",
              "      <td>1</td>\n",
              "      <td>-1</td>\n",
              "      <td>1</td>\n",
              "      <td>1</td>\n",
              "      <td>-1</td>\n",
              "      <td>1</td>\n",
              "      <td>0</td>\n",
              "      <td>-1</td>\n",
              "      <td>-1</td>\n",
              "      <td>1</td>\n",
              "      <td>1</td>\n",
              "      <td>0</td>\n",
              "      <td>1</td>\n",
              "      <td>1</td>\n",
              "      <td>1</td>\n",
              "      <td>1</td>\n",
              "      <td>-1</td>\n",
              "      <td>-1</td>\n",
              "      <td>0</td>\n",
              "      <td>-1</td>\n",
              "      <td>1</td>\n",
              "      <td>1</td>\n",
              "      <td>1</td>\n",
              "      <td>-1</td>\n",
              "    </tr>\n",
              "    <tr>\n",
              "      <th>2</th>\n",
              "      <td>1</td>\n",
              "      <td>0</td>\n",
              "      <td>1</td>\n",
              "      <td>1</td>\n",
              "      <td>1</td>\n",
              "      <td>-1</td>\n",
              "      <td>-1</td>\n",
              "      <td>-1</td>\n",
              "      <td>-1</td>\n",
              "      <td>1</td>\n",
              "      <td>1</td>\n",
              "      <td>-1</td>\n",
              "      <td>1</td>\n",
              "      <td>0</td>\n",
              "      <td>-1</td>\n",
              "      <td>-1</td>\n",
              "      <td>-1</td>\n",
              "      <td>-1</td>\n",
              "      <td>0</td>\n",
              "      <td>1</td>\n",
              "      <td>1</td>\n",
              "      <td>1</td>\n",
              "      <td>1</td>\n",
              "      <td>1</td>\n",
              "      <td>-1</td>\n",
              "      <td>1</td>\n",
              "      <td>-1</td>\n",
              "      <td>1</td>\n",
              "      <td>0</td>\n",
              "      <td>-1</td>\n",
              "      <td>-1</td>\n",
              "    </tr>\n",
              "    <tr>\n",
              "      <th>3</th>\n",
              "      <td>1</td>\n",
              "      <td>0</td>\n",
              "      <td>1</td>\n",
              "      <td>1</td>\n",
              "      <td>1</td>\n",
              "      <td>-1</td>\n",
              "      <td>-1</td>\n",
              "      <td>-1</td>\n",
              "      <td>1</td>\n",
              "      <td>1</td>\n",
              "      <td>1</td>\n",
              "      <td>-1</td>\n",
              "      <td>-1</td>\n",
              "      <td>0</td>\n",
              "      <td>0</td>\n",
              "      <td>-1</td>\n",
              "      <td>1</td>\n",
              "      <td>1</td>\n",
              "      <td>0</td>\n",
              "      <td>1</td>\n",
              "      <td>1</td>\n",
              "      <td>1</td>\n",
              "      <td>1</td>\n",
              "      <td>-1</td>\n",
              "      <td>-1</td>\n",
              "      <td>1</td>\n",
              "      <td>-1</td>\n",
              "      <td>1</td>\n",
              "      <td>-1</td>\n",
              "      <td>1</td>\n",
              "      <td>-1</td>\n",
              "    </tr>\n",
              "    <tr>\n",
              "      <th>4</th>\n",
              "      <td>1</td>\n",
              "      <td>0</td>\n",
              "      <td>-1</td>\n",
              "      <td>1</td>\n",
              "      <td>1</td>\n",
              "      <td>-1</td>\n",
              "      <td>1</td>\n",
              "      <td>1</td>\n",
              "      <td>-1</td>\n",
              "      <td>1</td>\n",
              "      <td>1</td>\n",
              "      <td>1</td>\n",
              "      <td>1</td>\n",
              "      <td>0</td>\n",
              "      <td>0</td>\n",
              "      <td>-1</td>\n",
              "      <td>1</td>\n",
              "      <td>1</td>\n",
              "      <td>0</td>\n",
              "      <td>-1</td>\n",
              "      <td>1</td>\n",
              "      <td>-1</td>\n",
              "      <td>1</td>\n",
              "      <td>-1</td>\n",
              "      <td>-1</td>\n",
              "      <td>0</td>\n",
              "      <td>-1</td>\n",
              "      <td>1</td>\n",
              "      <td>1</td>\n",
              "      <td>1</td>\n",
              "      <td>1</td>\n",
              "    </tr>\n",
              "  </tbody>\n",
              "</table>\n",
              "</div>"
            ],
            "text/plain": [
              "   0   1   2   3   4   5   6   7   8   ...  22  23  24  25  26  27  28  29  30\n",
              "0  -1   1   1   1  -1  -1  -1  -1  -1  ...   1  -1  -1  -1  -1   1   1  -1  -1\n",
              "1   1   1   1   1   1  -1   0   1  -1  ...   1  -1  -1   0  -1   1   1   1  -1\n",
              "2   1   0   1   1   1  -1  -1  -1  -1  ...   1   1  -1   1  -1   1   0  -1  -1\n",
              "3   1   0   1   1   1  -1  -1  -1   1  ...   1  -1  -1   1  -1   1  -1   1  -1\n",
              "4   1   0  -1   1   1  -1   1   1  -1  ...   1  -1  -1   0  -1   1   1   1   1\n",
              "\n",
              "[5 rows x 31 columns]"
            ]
          },
          "metadata": {
            "tags": []
          },
          "execution_count": 6
        }
      ]
    },
    {
      "cell_type": "code",
      "metadata": {
        "id": "HLsulJgw6V7K",
        "colab_type": "code",
        "colab": {
          "base_uri": "https://localhost:8080/",
          "height": 34
        },
        "outputId": "9f2a2418-5c7d-49f3-8aa7-efd4a30e6727"
      },
      "source": [
        "data.shape"
      ],
      "execution_count": null,
      "outputs": [
        {
          "output_type": "execute_result",
          "data": {
            "text/plain": [
              "(11055, 31)"
            ]
          },
          "metadata": {
            "tags": []
          },
          "execution_count": 7
        }
      ]
    },
    {
      "cell_type": "code",
      "metadata": {
        "id": "hIAsu2dJ6V4V",
        "colab_type": "code",
        "colab": {
          "base_uri": "https://localhost:8080/",
          "height": 663
        },
        "outputId": "61a6a85d-ad81-4bcf-ea92-1cb676225858"
      },
      "source": [
        "data.info()"
      ],
      "execution_count": null,
      "outputs": [
        {
          "output_type": "stream",
          "text": [
            "<class 'pandas.core.frame.DataFrame'>\n",
            "RangeIndex: 11055 entries, 0 to 11054\n",
            "Data columns (total 31 columns):\n",
            " #   Column  Non-Null Count  Dtype\n",
            "---  ------  --------------  -----\n",
            " 0   0       11055 non-null  int64\n",
            " 1   1       11055 non-null  int64\n",
            " 2   2       11055 non-null  int64\n",
            " 3   3       11055 non-null  int64\n",
            " 4   4       11055 non-null  int64\n",
            " 5   5       11055 non-null  int64\n",
            " 6   6       11055 non-null  int64\n",
            " 7   7       11055 non-null  int64\n",
            " 8   8       11055 non-null  int64\n",
            " 9   9       11055 non-null  int64\n",
            " 10  10      11055 non-null  int64\n",
            " 11  11      11055 non-null  int64\n",
            " 12  12      11055 non-null  int64\n",
            " 13  13      11055 non-null  int64\n",
            " 14  14      11055 non-null  int64\n",
            " 15  15      11055 non-null  int64\n",
            " 16  16      11055 non-null  int64\n",
            " 17  17      11055 non-null  int64\n",
            " 18  18      11055 non-null  int64\n",
            " 19  19      11055 non-null  int64\n",
            " 20  20      11055 non-null  int64\n",
            " 21  21      11055 non-null  int64\n",
            " 22  22      11055 non-null  int64\n",
            " 23  23      11055 non-null  int64\n",
            " 24  24      11055 non-null  int64\n",
            " 25  25      11055 non-null  int64\n",
            " 26  26      11055 non-null  int64\n",
            " 27  27      11055 non-null  int64\n",
            " 28  28      11055 non-null  int64\n",
            " 29  29      11055 non-null  int64\n",
            " 30  30      11055 non-null  int64\n",
            "dtypes: int64(31)\n",
            "memory usage: 2.6 MB\n"
          ],
          "name": "stdout"
        }
      ]
    },
    {
      "cell_type": "code",
      "metadata": {
        "id": "z3VEGl0E6V1h",
        "colab_type": "code",
        "colab": {
          "base_uri": "https://localhost:8080/",
          "height": 317
        },
        "outputId": "01f8c8e0-7ab2-409a-d744-8428409233d7"
      },
      "source": [
        "data.describe()"
      ],
      "execution_count": null,
      "outputs": [
        {
          "output_type": "execute_result",
          "data": {
            "text/html": [
              "<div>\n",
              "<style scoped>\n",
              "    .dataframe tbody tr th:only-of-type {\n",
              "        vertical-align: middle;\n",
              "    }\n",
              "\n",
              "    .dataframe tbody tr th {\n",
              "        vertical-align: top;\n",
              "    }\n",
              "\n",
              "    .dataframe thead th {\n",
              "        text-align: right;\n",
              "    }\n",
              "</style>\n",
              "<table border=\"1\" class=\"dataframe\">\n",
              "  <thead>\n",
              "    <tr style=\"text-align: right;\">\n",
              "      <th></th>\n",
              "      <th>0</th>\n",
              "      <th>1</th>\n",
              "      <th>2</th>\n",
              "      <th>3</th>\n",
              "      <th>4</th>\n",
              "      <th>5</th>\n",
              "      <th>6</th>\n",
              "      <th>7</th>\n",
              "      <th>8</th>\n",
              "      <th>9</th>\n",
              "      <th>10</th>\n",
              "      <th>11</th>\n",
              "      <th>12</th>\n",
              "      <th>13</th>\n",
              "      <th>14</th>\n",
              "      <th>15</th>\n",
              "      <th>16</th>\n",
              "      <th>17</th>\n",
              "      <th>18</th>\n",
              "      <th>19</th>\n",
              "      <th>20</th>\n",
              "      <th>21</th>\n",
              "      <th>22</th>\n",
              "      <th>23</th>\n",
              "      <th>24</th>\n",
              "      <th>25</th>\n",
              "      <th>26</th>\n",
              "      <th>27</th>\n",
              "      <th>28</th>\n",
              "      <th>29</th>\n",
              "      <th>30</th>\n",
              "    </tr>\n",
              "  </thead>\n",
              "  <tbody>\n",
              "    <tr>\n",
              "      <th>count</th>\n",
              "      <td>11055.000000</td>\n",
              "      <td>11055.000000</td>\n",
              "      <td>11055.000000</td>\n",
              "      <td>11055.000000</td>\n",
              "      <td>11055.000000</td>\n",
              "      <td>11055.000000</td>\n",
              "      <td>11055.000000</td>\n",
              "      <td>11055.000000</td>\n",
              "      <td>11055.000000</td>\n",
              "      <td>11055.000000</td>\n",
              "      <td>11055.000000</td>\n",
              "      <td>11055.000000</td>\n",
              "      <td>11055.000000</td>\n",
              "      <td>11055.000000</td>\n",
              "      <td>11055.000000</td>\n",
              "      <td>11055.000000</td>\n",
              "      <td>11055.000000</td>\n",
              "      <td>11055.000000</td>\n",
              "      <td>11055.000000</td>\n",
              "      <td>11055.000000</td>\n",
              "      <td>11055.000000</td>\n",
              "      <td>11055.000000</td>\n",
              "      <td>11055.000000</td>\n",
              "      <td>11055.000000</td>\n",
              "      <td>11055.000000</td>\n",
              "      <td>11055.000000</td>\n",
              "      <td>11055.000000</td>\n",
              "      <td>11055.000000</td>\n",
              "      <td>11055.000000</td>\n",
              "      <td>11055.000000</td>\n",
              "      <td>11055.000000</td>\n",
              "    </tr>\n",
              "    <tr>\n",
              "      <th>mean</th>\n",
              "      <td>0.313795</td>\n",
              "      <td>-0.633198</td>\n",
              "      <td>0.738761</td>\n",
              "      <td>0.700588</td>\n",
              "      <td>0.741474</td>\n",
              "      <td>-0.734962</td>\n",
              "      <td>0.063953</td>\n",
              "      <td>0.250927</td>\n",
              "      <td>-0.336771</td>\n",
              "      <td>0.628584</td>\n",
              "      <td>0.728268</td>\n",
              "      <td>0.675079</td>\n",
              "      <td>0.186793</td>\n",
              "      <td>-0.076526</td>\n",
              "      <td>-0.118137</td>\n",
              "      <td>-0.595749</td>\n",
              "      <td>0.635640</td>\n",
              "      <td>0.705292</td>\n",
              "      <td>0.115694</td>\n",
              "      <td>0.762099</td>\n",
              "      <td>0.913885</td>\n",
              "      <td>0.613388</td>\n",
              "      <td>0.816915</td>\n",
              "      <td>0.061239</td>\n",
              "      <td>0.377114</td>\n",
              "      <td>0.287291</td>\n",
              "      <td>-0.483673</td>\n",
              "      <td>0.721574</td>\n",
              "      <td>0.344007</td>\n",
              "      <td>0.719584</td>\n",
              "      <td>0.113885</td>\n",
              "    </tr>\n",
              "    <tr>\n",
              "      <th>std</th>\n",
              "      <td>0.949534</td>\n",
              "      <td>0.766095</td>\n",
              "      <td>0.673998</td>\n",
              "      <td>0.713598</td>\n",
              "      <td>0.671011</td>\n",
              "      <td>0.678139</td>\n",
              "      <td>0.817518</td>\n",
              "      <td>0.911892</td>\n",
              "      <td>0.941629</td>\n",
              "      <td>0.777777</td>\n",
              "      <td>0.685324</td>\n",
              "      <td>0.737779</td>\n",
              "      <td>0.982444</td>\n",
              "      <td>0.715138</td>\n",
              "      <td>0.763973</td>\n",
              "      <td>0.759143</td>\n",
              "      <td>0.772021</td>\n",
              "      <td>0.708949</td>\n",
              "      <td>0.319872</td>\n",
              "      <td>0.647490</td>\n",
              "      <td>0.405991</td>\n",
              "      <td>0.789818</td>\n",
              "      <td>0.576784</td>\n",
              "      <td>0.998168</td>\n",
              "      <td>0.926209</td>\n",
              "      <td>0.827733</td>\n",
              "      <td>0.875289</td>\n",
              "      <td>0.692369</td>\n",
              "      <td>0.569944</td>\n",
              "      <td>0.694437</td>\n",
              "      <td>0.993539</td>\n",
              "    </tr>\n",
              "    <tr>\n",
              "      <th>min</th>\n",
              "      <td>-1.000000</td>\n",
              "      <td>-1.000000</td>\n",
              "      <td>-1.000000</td>\n",
              "      <td>-1.000000</td>\n",
              "      <td>-1.000000</td>\n",
              "      <td>-1.000000</td>\n",
              "      <td>-1.000000</td>\n",
              "      <td>-1.000000</td>\n",
              "      <td>-1.000000</td>\n",
              "      <td>-1.000000</td>\n",
              "      <td>-1.000000</td>\n",
              "      <td>-1.000000</td>\n",
              "      <td>-1.000000</td>\n",
              "      <td>-1.000000</td>\n",
              "      <td>-1.000000</td>\n",
              "      <td>-1.000000</td>\n",
              "      <td>-1.000000</td>\n",
              "      <td>-1.000000</td>\n",
              "      <td>0.000000</td>\n",
              "      <td>-1.000000</td>\n",
              "      <td>-1.000000</td>\n",
              "      <td>-1.000000</td>\n",
              "      <td>-1.000000</td>\n",
              "      <td>-1.000000</td>\n",
              "      <td>-1.000000</td>\n",
              "      <td>-1.000000</td>\n",
              "      <td>-1.000000</td>\n",
              "      <td>-1.000000</td>\n",
              "      <td>-1.000000</td>\n",
              "      <td>-1.000000</td>\n",
              "      <td>-1.000000</td>\n",
              "    </tr>\n",
              "    <tr>\n",
              "      <th>25%</th>\n",
              "      <td>-1.000000</td>\n",
              "      <td>-1.000000</td>\n",
              "      <td>1.000000</td>\n",
              "      <td>1.000000</td>\n",
              "      <td>1.000000</td>\n",
              "      <td>-1.000000</td>\n",
              "      <td>-1.000000</td>\n",
              "      <td>-1.000000</td>\n",
              "      <td>-1.000000</td>\n",
              "      <td>1.000000</td>\n",
              "      <td>1.000000</td>\n",
              "      <td>1.000000</td>\n",
              "      <td>-1.000000</td>\n",
              "      <td>-1.000000</td>\n",
              "      <td>-1.000000</td>\n",
              "      <td>-1.000000</td>\n",
              "      <td>1.000000</td>\n",
              "      <td>1.000000</td>\n",
              "      <td>0.000000</td>\n",
              "      <td>1.000000</td>\n",
              "      <td>1.000000</td>\n",
              "      <td>1.000000</td>\n",
              "      <td>1.000000</td>\n",
              "      <td>-1.000000</td>\n",
              "      <td>-1.000000</td>\n",
              "      <td>0.000000</td>\n",
              "      <td>-1.000000</td>\n",
              "      <td>1.000000</td>\n",
              "      <td>0.000000</td>\n",
              "      <td>1.000000</td>\n",
              "      <td>-1.000000</td>\n",
              "    </tr>\n",
              "    <tr>\n",
              "      <th>50%</th>\n",
              "      <td>1.000000</td>\n",
              "      <td>-1.000000</td>\n",
              "      <td>1.000000</td>\n",
              "      <td>1.000000</td>\n",
              "      <td>1.000000</td>\n",
              "      <td>-1.000000</td>\n",
              "      <td>0.000000</td>\n",
              "      <td>1.000000</td>\n",
              "      <td>-1.000000</td>\n",
              "      <td>1.000000</td>\n",
              "      <td>1.000000</td>\n",
              "      <td>1.000000</td>\n",
              "      <td>1.000000</td>\n",
              "      <td>0.000000</td>\n",
              "      <td>0.000000</td>\n",
              "      <td>-1.000000</td>\n",
              "      <td>1.000000</td>\n",
              "      <td>1.000000</td>\n",
              "      <td>0.000000</td>\n",
              "      <td>1.000000</td>\n",
              "      <td>1.000000</td>\n",
              "      <td>1.000000</td>\n",
              "      <td>1.000000</td>\n",
              "      <td>1.000000</td>\n",
              "      <td>1.000000</td>\n",
              "      <td>1.000000</td>\n",
              "      <td>-1.000000</td>\n",
              "      <td>1.000000</td>\n",
              "      <td>0.000000</td>\n",
              "      <td>1.000000</td>\n",
              "      <td>1.000000</td>\n",
              "    </tr>\n",
              "    <tr>\n",
              "      <th>75%</th>\n",
              "      <td>1.000000</td>\n",
              "      <td>-1.000000</td>\n",
              "      <td>1.000000</td>\n",
              "      <td>1.000000</td>\n",
              "      <td>1.000000</td>\n",
              "      <td>-1.000000</td>\n",
              "      <td>1.000000</td>\n",
              "      <td>1.000000</td>\n",
              "      <td>1.000000</td>\n",
              "      <td>1.000000</td>\n",
              "      <td>1.000000</td>\n",
              "      <td>1.000000</td>\n",
              "      <td>1.000000</td>\n",
              "      <td>0.000000</td>\n",
              "      <td>0.000000</td>\n",
              "      <td>-1.000000</td>\n",
              "      <td>1.000000</td>\n",
              "      <td>1.000000</td>\n",
              "      <td>0.000000</td>\n",
              "      <td>1.000000</td>\n",
              "      <td>1.000000</td>\n",
              "      <td>1.000000</td>\n",
              "      <td>1.000000</td>\n",
              "      <td>1.000000</td>\n",
              "      <td>1.000000</td>\n",
              "      <td>1.000000</td>\n",
              "      <td>1.000000</td>\n",
              "      <td>1.000000</td>\n",
              "      <td>1.000000</td>\n",
              "      <td>1.000000</td>\n",
              "      <td>1.000000</td>\n",
              "    </tr>\n",
              "    <tr>\n",
              "      <th>max</th>\n",
              "      <td>1.000000</td>\n",
              "      <td>1.000000</td>\n",
              "      <td>1.000000</td>\n",
              "      <td>1.000000</td>\n",
              "      <td>1.000000</td>\n",
              "      <td>1.000000</td>\n",
              "      <td>1.000000</td>\n",
              "      <td>1.000000</td>\n",
              "      <td>1.000000</td>\n",
              "      <td>1.000000</td>\n",
              "      <td>1.000000</td>\n",
              "      <td>1.000000</td>\n",
              "      <td>1.000000</td>\n",
              "      <td>1.000000</td>\n",
              "      <td>1.000000</td>\n",
              "      <td>1.000000</td>\n",
              "      <td>1.000000</td>\n",
              "      <td>1.000000</td>\n",
              "      <td>1.000000</td>\n",
              "      <td>1.000000</td>\n",
              "      <td>1.000000</td>\n",
              "      <td>1.000000</td>\n",
              "      <td>1.000000</td>\n",
              "      <td>1.000000</td>\n",
              "      <td>1.000000</td>\n",
              "      <td>1.000000</td>\n",
              "      <td>1.000000</td>\n",
              "      <td>1.000000</td>\n",
              "      <td>1.000000</td>\n",
              "      <td>1.000000</td>\n",
              "      <td>1.000000</td>\n",
              "    </tr>\n",
              "  </tbody>\n",
              "</table>\n",
              "</div>"
            ],
            "text/plain": [
              "                 0             1   ...            29            30\n",
              "count  11055.000000  11055.000000  ...  11055.000000  11055.000000\n",
              "mean       0.313795     -0.633198  ...      0.719584      0.113885\n",
              "std        0.949534      0.766095  ...      0.694437      0.993539\n",
              "min       -1.000000     -1.000000  ...     -1.000000     -1.000000\n",
              "25%       -1.000000     -1.000000  ...      1.000000     -1.000000\n",
              "50%        1.000000     -1.000000  ...      1.000000      1.000000\n",
              "75%        1.000000     -1.000000  ...      1.000000      1.000000\n",
              "max        1.000000      1.000000  ...      1.000000      1.000000\n",
              "\n",
              "[8 rows x 31 columns]"
            ]
          },
          "metadata": {
            "tags": []
          },
          "execution_count": 9
        }
      ]
    },
    {
      "cell_type": "code",
      "metadata": {
        "id": "7JU_yOWi6s2w",
        "colab_type": "code",
        "colab": {}
      },
      "source": [
        "data.columns = ['having_IP_Address','URL_length','Shortining_Service','having_At_Symbol',\n",
        "              'double_slash_redirecting','Prefix_suffix','having_Sub_Domain','SSLfinal_State','Domain_registration_length',\n",
        "               'Favion','Port','HTTPS_token','Request_URL','URL_of_Anchor','Links_in_tags','SFH',\n",
        "               'Submitting_to_email','Abnormal_URL','Redirect','on_movesover','RightClick','PopUpwindow','IFrame',\n",
        "                'age_of_domain','DNSRecord','web_traffic','Page_Rank','Google_Index',\n",
        "                'Links_pointing_to_page','Statistical_Report','Result']\n",
        "        "
      ],
      "execution_count": null,
      "outputs": []
    },
    {
      "cell_type": "code",
      "metadata": {
        "id": "Acb0PuGt6ynC",
        "colab_type": "code",
        "colab": {
          "base_uri": "https://localhost:8080/",
          "height": 224
        },
        "outputId": "d07be1f1-1550-4c81-955f-f4b4435b07cd"
      },
      "source": [
        "data.head()"
      ],
      "execution_count": null,
      "outputs": [
        {
          "output_type": "execute_result",
          "data": {
            "text/html": [
              "<div>\n",
              "<style scoped>\n",
              "    .dataframe tbody tr th:only-of-type {\n",
              "        vertical-align: middle;\n",
              "    }\n",
              "\n",
              "    .dataframe tbody tr th {\n",
              "        vertical-align: top;\n",
              "    }\n",
              "\n",
              "    .dataframe thead th {\n",
              "        text-align: right;\n",
              "    }\n",
              "</style>\n",
              "<table border=\"1\" class=\"dataframe\">\n",
              "  <thead>\n",
              "    <tr style=\"text-align: right;\">\n",
              "      <th></th>\n",
              "      <th>having_IP_Address</th>\n",
              "      <th>URL_length</th>\n",
              "      <th>Shortining_Service</th>\n",
              "      <th>having_At_Symbol</th>\n",
              "      <th>double_slash_redirecting</th>\n",
              "      <th>Prefix_suffix</th>\n",
              "      <th>having_Sub_Domain</th>\n",
              "      <th>SSLfinal_State</th>\n",
              "      <th>Domain_registration_length</th>\n",
              "      <th>Favion</th>\n",
              "      <th>Port</th>\n",
              "      <th>HTTPS_token</th>\n",
              "      <th>Request_URL</th>\n",
              "      <th>URL_of_Anchor</th>\n",
              "      <th>Links_in_tags</th>\n",
              "      <th>SFH</th>\n",
              "      <th>Submitting_to_email</th>\n",
              "      <th>Abnormal_URL</th>\n",
              "      <th>Redirect</th>\n",
              "      <th>on_movesover</th>\n",
              "      <th>RightClick</th>\n",
              "      <th>PopUpwindow</th>\n",
              "      <th>IFrame</th>\n",
              "      <th>age_of_domain</th>\n",
              "      <th>DNSRecord</th>\n",
              "      <th>web_traffic</th>\n",
              "      <th>Page_Rank</th>\n",
              "      <th>Google_Index</th>\n",
              "      <th>Links_pointing_to_page</th>\n",
              "      <th>Statistical_Report</th>\n",
              "      <th>Result</th>\n",
              "    </tr>\n",
              "  </thead>\n",
              "  <tbody>\n",
              "    <tr>\n",
              "      <th>0</th>\n",
              "      <td>-1</td>\n",
              "      <td>1</td>\n",
              "      <td>1</td>\n",
              "      <td>1</td>\n",
              "      <td>-1</td>\n",
              "      <td>-1</td>\n",
              "      <td>-1</td>\n",
              "      <td>-1</td>\n",
              "      <td>-1</td>\n",
              "      <td>1</td>\n",
              "      <td>1</td>\n",
              "      <td>-1</td>\n",
              "      <td>1</td>\n",
              "      <td>-1</td>\n",
              "      <td>1</td>\n",
              "      <td>-1</td>\n",
              "      <td>-1</td>\n",
              "      <td>-1</td>\n",
              "      <td>0</td>\n",
              "      <td>1</td>\n",
              "      <td>1</td>\n",
              "      <td>1</td>\n",
              "      <td>1</td>\n",
              "      <td>-1</td>\n",
              "      <td>-1</td>\n",
              "      <td>-1</td>\n",
              "      <td>-1</td>\n",
              "      <td>1</td>\n",
              "      <td>1</td>\n",
              "      <td>-1</td>\n",
              "      <td>-1</td>\n",
              "    </tr>\n",
              "    <tr>\n",
              "      <th>1</th>\n",
              "      <td>1</td>\n",
              "      <td>1</td>\n",
              "      <td>1</td>\n",
              "      <td>1</td>\n",
              "      <td>1</td>\n",
              "      <td>-1</td>\n",
              "      <td>0</td>\n",
              "      <td>1</td>\n",
              "      <td>-1</td>\n",
              "      <td>1</td>\n",
              "      <td>1</td>\n",
              "      <td>-1</td>\n",
              "      <td>1</td>\n",
              "      <td>0</td>\n",
              "      <td>-1</td>\n",
              "      <td>-1</td>\n",
              "      <td>1</td>\n",
              "      <td>1</td>\n",
              "      <td>0</td>\n",
              "      <td>1</td>\n",
              "      <td>1</td>\n",
              "      <td>1</td>\n",
              "      <td>1</td>\n",
              "      <td>-1</td>\n",
              "      <td>-1</td>\n",
              "      <td>0</td>\n",
              "      <td>-1</td>\n",
              "      <td>1</td>\n",
              "      <td>1</td>\n",
              "      <td>1</td>\n",
              "      <td>-1</td>\n",
              "    </tr>\n",
              "    <tr>\n",
              "      <th>2</th>\n",
              "      <td>1</td>\n",
              "      <td>0</td>\n",
              "      <td>1</td>\n",
              "      <td>1</td>\n",
              "      <td>1</td>\n",
              "      <td>-1</td>\n",
              "      <td>-1</td>\n",
              "      <td>-1</td>\n",
              "      <td>-1</td>\n",
              "      <td>1</td>\n",
              "      <td>1</td>\n",
              "      <td>-1</td>\n",
              "      <td>1</td>\n",
              "      <td>0</td>\n",
              "      <td>-1</td>\n",
              "      <td>-1</td>\n",
              "      <td>-1</td>\n",
              "      <td>-1</td>\n",
              "      <td>0</td>\n",
              "      <td>1</td>\n",
              "      <td>1</td>\n",
              "      <td>1</td>\n",
              "      <td>1</td>\n",
              "      <td>1</td>\n",
              "      <td>-1</td>\n",
              "      <td>1</td>\n",
              "      <td>-1</td>\n",
              "      <td>1</td>\n",
              "      <td>0</td>\n",
              "      <td>-1</td>\n",
              "      <td>-1</td>\n",
              "    </tr>\n",
              "    <tr>\n",
              "      <th>3</th>\n",
              "      <td>1</td>\n",
              "      <td>0</td>\n",
              "      <td>1</td>\n",
              "      <td>1</td>\n",
              "      <td>1</td>\n",
              "      <td>-1</td>\n",
              "      <td>-1</td>\n",
              "      <td>-1</td>\n",
              "      <td>1</td>\n",
              "      <td>1</td>\n",
              "      <td>1</td>\n",
              "      <td>-1</td>\n",
              "      <td>-1</td>\n",
              "      <td>0</td>\n",
              "      <td>0</td>\n",
              "      <td>-1</td>\n",
              "      <td>1</td>\n",
              "      <td>1</td>\n",
              "      <td>0</td>\n",
              "      <td>1</td>\n",
              "      <td>1</td>\n",
              "      <td>1</td>\n",
              "      <td>1</td>\n",
              "      <td>-1</td>\n",
              "      <td>-1</td>\n",
              "      <td>1</td>\n",
              "      <td>-1</td>\n",
              "      <td>1</td>\n",
              "      <td>-1</td>\n",
              "      <td>1</td>\n",
              "      <td>-1</td>\n",
              "    </tr>\n",
              "    <tr>\n",
              "      <th>4</th>\n",
              "      <td>1</td>\n",
              "      <td>0</td>\n",
              "      <td>-1</td>\n",
              "      <td>1</td>\n",
              "      <td>1</td>\n",
              "      <td>-1</td>\n",
              "      <td>1</td>\n",
              "      <td>1</td>\n",
              "      <td>-1</td>\n",
              "      <td>1</td>\n",
              "      <td>1</td>\n",
              "      <td>1</td>\n",
              "      <td>1</td>\n",
              "      <td>0</td>\n",
              "      <td>0</td>\n",
              "      <td>-1</td>\n",
              "      <td>1</td>\n",
              "      <td>1</td>\n",
              "      <td>0</td>\n",
              "      <td>-1</td>\n",
              "      <td>1</td>\n",
              "      <td>-1</td>\n",
              "      <td>1</td>\n",
              "      <td>-1</td>\n",
              "      <td>-1</td>\n",
              "      <td>0</td>\n",
              "      <td>-1</td>\n",
              "      <td>1</td>\n",
              "      <td>1</td>\n",
              "      <td>1</td>\n",
              "      <td>1</td>\n",
              "    </tr>\n",
              "  </tbody>\n",
              "</table>\n",
              "</div>"
            ],
            "text/plain": [
              "   having_IP_Address  URL_length  ...  Statistical_Report  Result\n",
              "0                 -1           1  ...                  -1      -1\n",
              "1                  1           1  ...                   1      -1\n",
              "2                  1           0  ...                  -1      -1\n",
              "3                  1           0  ...                   1      -1\n",
              "4                  1           0  ...                   1       1\n",
              "\n",
              "[5 rows x 31 columns]"
            ]
          },
          "metadata": {
            "tags": []
          },
          "execution_count": 11
        }
      ]
    },
    {
      "cell_type": "code",
      "metadata": {
        "id": "RmvpWq-H61nT",
        "colab_type": "code",
        "colab": {
          "base_uri": "https://localhost:8080/",
          "height": 187
        },
        "outputId": "9c252909-ddca-4f34-e2f0-b3ef64b0bd33"
      },
      "source": [
        "data.columns"
      ],
      "execution_count": null,
      "outputs": [
        {
          "output_type": "execute_result",
          "data": {
            "text/plain": [
              "Index(['having_IP_Address', 'URL_length', 'Shortining_Service',\n",
              "       'having_At_Symbol', 'double_slash_redirecting', 'Prefix_suffix',\n",
              "       'having_Sub_Domain', 'SSLfinal_State', 'Domain_registration_length',\n",
              "       'Favion', 'Port', 'HTTPS_token', 'Request_URL', 'URL_of_Anchor',\n",
              "       'Links_in_tags', 'SFH', 'Submitting_to_email', 'Abnormal_URL',\n",
              "       'Redirect', 'on_movesover', 'RightClick', 'PopUpwindow', 'IFrame',\n",
              "       'age_of_domain', 'DNSRecord', 'web_traffic', 'Page_Rank',\n",
              "       'Google_Index', 'Links_pointing_to_page', 'Statistical_Report',\n",
              "       'Result'],\n",
              "      dtype='object')"
            ]
          },
          "metadata": {
            "tags": []
          },
          "execution_count": 12
        }
      ]
    },
    {
      "cell_type": "code",
      "metadata": {
        "id": "0mfdzsWV63gJ",
        "colab_type": "code",
        "colab": {
          "base_uri": "https://localhost:8080/",
          "height": 1000
        },
        "outputId": "0f95d462-6491-4a8e-e3f7-18716fc3c5e8"
      },
      "source": [
        "data.corr()"
      ],
      "execution_count": null,
      "outputs": [
        {
          "output_type": "execute_result",
          "data": {
            "text/html": [
              "<div>\n",
              "<style scoped>\n",
              "    .dataframe tbody tr th:only-of-type {\n",
              "        vertical-align: middle;\n",
              "    }\n",
              "\n",
              "    .dataframe tbody tr th {\n",
              "        vertical-align: top;\n",
              "    }\n",
              "\n",
              "    .dataframe thead th {\n",
              "        text-align: right;\n",
              "    }\n",
              "</style>\n",
              "<table border=\"1\" class=\"dataframe\">\n",
              "  <thead>\n",
              "    <tr style=\"text-align: right;\">\n",
              "      <th></th>\n",
              "      <th>having_IP_Address</th>\n",
              "      <th>URL_length</th>\n",
              "      <th>Shortining_Service</th>\n",
              "      <th>having_At_Symbol</th>\n",
              "      <th>double_slash_redirecting</th>\n",
              "      <th>Prefix_suffix</th>\n",
              "      <th>having_Sub_Domain</th>\n",
              "      <th>SSLfinal_State</th>\n",
              "      <th>Domain_registration_length</th>\n",
              "      <th>Favion</th>\n",
              "      <th>Port</th>\n",
              "      <th>HTTPS_token</th>\n",
              "      <th>Request_URL</th>\n",
              "      <th>URL_of_Anchor</th>\n",
              "      <th>Links_in_tags</th>\n",
              "      <th>SFH</th>\n",
              "      <th>Submitting_to_email</th>\n",
              "      <th>Abnormal_URL</th>\n",
              "      <th>Redirect</th>\n",
              "      <th>on_movesover</th>\n",
              "      <th>RightClick</th>\n",
              "      <th>PopUpwindow</th>\n",
              "      <th>IFrame</th>\n",
              "      <th>age_of_domain</th>\n",
              "      <th>DNSRecord</th>\n",
              "      <th>web_traffic</th>\n",
              "      <th>Page_Rank</th>\n",
              "      <th>Google_Index</th>\n",
              "      <th>Links_pointing_to_page</th>\n",
              "      <th>Statistical_Report</th>\n",
              "      <th>Result</th>\n",
              "    </tr>\n",
              "  </thead>\n",
              "  <tbody>\n",
              "    <tr>\n",
              "      <th>having_IP_Address</th>\n",
              "      <td>1.000000</td>\n",
              "      <td>-0.052411</td>\n",
              "      <td>0.403461</td>\n",
              "      <td>0.158699</td>\n",
              "      <td>0.397389</td>\n",
              "      <td>-0.005257</td>\n",
              "      <td>-0.080745</td>\n",
              "      <td>0.071414</td>\n",
              "      <td>-0.022739</td>\n",
              "      <td>0.087025</td>\n",
              "      <td>0.060979</td>\n",
              "      <td>0.363534</td>\n",
              "      <td>0.029773</td>\n",
              "      <td>0.099847</td>\n",
              "      <td>0.006212</td>\n",
              "      <td>-0.010962</td>\n",
              "      <td>0.077989</td>\n",
              "      <td>0.336549</td>\n",
              "      <td>-0.321181</td>\n",
              "      <td>0.084059</td>\n",
              "      <td>0.042881</td>\n",
              "      <td>0.096882</td>\n",
              "      <td>0.054694</td>\n",
              "      <td>-0.010446</td>\n",
              "      <td>-0.050733</td>\n",
              "      <td>0.002922</td>\n",
              "      <td>-0.091774</td>\n",
              "      <td>0.029153</td>\n",
              "      <td>-0.339065</td>\n",
              "      <td>-0.019103</td>\n",
              "      <td>0.094160</td>\n",
              "    </tr>\n",
              "    <tr>\n",
              "      <th>URL_length</th>\n",
              "      <td>-0.052411</td>\n",
              "      <td>1.000000</td>\n",
              "      <td>-0.097881</td>\n",
              "      <td>-0.075108</td>\n",
              "      <td>-0.081247</td>\n",
              "      <td>0.055247</td>\n",
              "      <td>0.003997</td>\n",
              "      <td>0.048754</td>\n",
              "      <td>-0.221892</td>\n",
              "      <td>-0.042497</td>\n",
              "      <td>0.000323</td>\n",
              "      <td>-0.089383</td>\n",
              "      <td>0.246348</td>\n",
              "      <td>-0.023396</td>\n",
              "      <td>0.052869</td>\n",
              "      <td>0.414196</td>\n",
              "      <td>-0.014457</td>\n",
              "      <td>-0.106761</td>\n",
              "      <td>0.046832</td>\n",
              "      <td>-0.045103</td>\n",
              "      <td>-0.013613</td>\n",
              "      <td>-0.049381</td>\n",
              "      <td>-0.013838</td>\n",
              "      <td>0.179426</td>\n",
              "      <td>-0.040823</td>\n",
              "      <td>0.008993</td>\n",
              "      <td>0.183518</td>\n",
              "      <td>0.002902</td>\n",
              "      <td>-0.022987</td>\n",
              "      <td>-0.067153</td>\n",
              "      <td>0.057430</td>\n",
              "    </tr>\n",
              "    <tr>\n",
              "      <th>Shortining_Service</th>\n",
              "      <td>0.403461</td>\n",
              "      <td>-0.097881</td>\n",
              "      <td>1.000000</td>\n",
              "      <td>0.104447</td>\n",
              "      <td>0.842796</td>\n",
              "      <td>-0.080471</td>\n",
              "      <td>-0.041916</td>\n",
              "      <td>-0.061426</td>\n",
              "      <td>0.060923</td>\n",
              "      <td>0.006101</td>\n",
              "      <td>0.002201</td>\n",
              "      <td>0.757838</td>\n",
              "      <td>-0.037235</td>\n",
              "      <td>0.000561</td>\n",
              "      <td>-0.133379</td>\n",
              "      <td>-0.022723</td>\n",
              "      <td>0.049328</td>\n",
              "      <td>0.739290</td>\n",
              "      <td>-0.534530</td>\n",
              "      <td>0.062383</td>\n",
              "      <td>0.038118</td>\n",
              "      <td>0.036616</td>\n",
              "      <td>0.016581</td>\n",
              "      <td>-0.052596</td>\n",
              "      <td>0.436064</td>\n",
              "      <td>-0.047074</td>\n",
              "      <td>0.014591</td>\n",
              "      <td>0.155844</td>\n",
              "      <td>-0.198410</td>\n",
              "      <td>0.085461</td>\n",
              "      <td>-0.067966</td>\n",
              "    </tr>\n",
              "    <tr>\n",
              "      <th>having_At_Symbol</th>\n",
              "      <td>0.158699</td>\n",
              "      <td>-0.075108</td>\n",
              "      <td>0.104447</td>\n",
              "      <td>1.000000</td>\n",
              "      <td>0.086960</td>\n",
              "      <td>-0.011726</td>\n",
              "      <td>-0.058976</td>\n",
              "      <td>0.031220</td>\n",
              "      <td>0.015522</td>\n",
              "      <td>0.304899</td>\n",
              "      <td>0.364891</td>\n",
              "      <td>0.104561</td>\n",
              "      <td>0.027909</td>\n",
              "      <td>0.057914</td>\n",
              "      <td>-0.070861</td>\n",
              "      <td>-0.008672</td>\n",
              "      <td>0.370123</td>\n",
              "      <td>0.203945</td>\n",
              "      <td>-0.028160</td>\n",
              "      <td>0.279697</td>\n",
              "      <td>0.219503</td>\n",
              "      <td>0.290893</td>\n",
              "      <td>0.284410</td>\n",
              "      <td>-0.005499</td>\n",
              "      <td>-0.047872</td>\n",
              "      <td>0.032918</td>\n",
              "      <td>-0.064735</td>\n",
              "      <td>0.037061</td>\n",
              "      <td>-0.006080</td>\n",
              "      <td>-0.080357</td>\n",
              "      <td>0.052948</td>\n",
              "    </tr>\n",
              "    <tr>\n",
              "      <th>double_slash_redirecting</th>\n",
              "      <td>0.397389</td>\n",
              "      <td>-0.081247</td>\n",
              "      <td>0.842796</td>\n",
              "      <td>0.086960</td>\n",
              "      <td>1.000000</td>\n",
              "      <td>-0.085590</td>\n",
              "      <td>-0.043079</td>\n",
              "      <td>-0.036200</td>\n",
              "      <td>0.047464</td>\n",
              "      <td>0.035100</td>\n",
              "      <td>0.025060</td>\n",
              "      <td>0.760799</td>\n",
              "      <td>-0.026368</td>\n",
              "      <td>-0.005036</td>\n",
              "      <td>-0.125583</td>\n",
              "      <td>-0.041672</td>\n",
              "      <td>0.031898</td>\n",
              "      <td>0.723724</td>\n",
              "      <td>-0.591478</td>\n",
              "      <td>0.086635</td>\n",
              "      <td>0.025863</td>\n",
              "      <td>0.054463</td>\n",
              "      <td>0.010459</td>\n",
              "      <td>-0.050107</td>\n",
              "      <td>0.431409</td>\n",
              "      <td>-0.062369</td>\n",
              "      <td>-0.003132</td>\n",
              "      <td>0.178415</td>\n",
              "      <td>-0.194165</td>\n",
              "      <td>0.070390</td>\n",
              "      <td>-0.038608</td>\n",
              "    </tr>\n",
              "    <tr>\n",
              "      <th>Prefix_suffix</th>\n",
              "      <td>-0.005257</td>\n",
              "      <td>0.055247</td>\n",
              "      <td>-0.080471</td>\n",
              "      <td>-0.011726</td>\n",
              "      <td>-0.085590</td>\n",
              "      <td>1.000000</td>\n",
              "      <td>0.087891</td>\n",
              "      <td>0.261391</td>\n",
              "      <td>-0.096799</td>\n",
              "      <td>-0.007504</td>\n",
              "      <td>-0.022546</td>\n",
              "      <td>-0.070153</td>\n",
              "      <td>0.098675</td>\n",
              "      <td>0.348871</td>\n",
              "      <td>0.100254</td>\n",
              "      <td>0.001326</td>\n",
              "      <td>-0.045000</td>\n",
              "      <td>-0.077620</td>\n",
              "      <td>0.016271</td>\n",
              "      <td>0.012578</td>\n",
              "      <td>-0.024868</td>\n",
              "      <td>-0.014733</td>\n",
              "      <td>-0.036904</td>\n",
              "      <td>0.074116</td>\n",
              "      <td>-0.016556</td>\n",
              "      <td>0.110598</td>\n",
              "      <td>-0.006834</td>\n",
              "      <td>0.067781</td>\n",
              "      <td>0.067423</td>\n",
              "      <td>-0.002763</td>\n",
              "      <td>0.348606</td>\n",
              "    </tr>\n",
              "    <tr>\n",
              "      <th>having_Sub_Domain</th>\n",
              "      <td>-0.080745</td>\n",
              "      <td>0.003997</td>\n",
              "      <td>-0.041916</td>\n",
              "      <td>-0.058976</td>\n",
              "      <td>-0.043079</td>\n",
              "      <td>0.087891</td>\n",
              "      <td>1.000000</td>\n",
              "      <td>0.267649</td>\n",
              "      <td>-0.082839</td>\n",
              "      <td>-0.016704</td>\n",
              "      <td>0.004863</td>\n",
              "      <td>-0.037239</td>\n",
              "      <td>0.104857</td>\n",
              "      <td>0.229491</td>\n",
              "      <td>0.093646</td>\n",
              "      <td>0.096089</td>\n",
              "      <td>0.008830</td>\n",
              "      <td>-0.034908</td>\n",
              "      <td>0.031206</td>\n",
              "      <td>-0.018082</td>\n",
              "      <td>0.018230</td>\n",
              "      <td>-0.025312</td>\n",
              "      <td>0.010637</td>\n",
              "      <td>0.119254</td>\n",
              "      <td>0.125493</td>\n",
              "      <td>-0.005764</td>\n",
              "      <td>0.120730</td>\n",
              "      <td>0.057673</td>\n",
              "      <td>-0.010526</td>\n",
              "      <td>0.081627</td>\n",
              "      <td>0.298323</td>\n",
              "    </tr>\n",
              "    <tr>\n",
              "      <th>SSLfinal_State</th>\n",
              "      <td>0.071414</td>\n",
              "      <td>0.048754</td>\n",
              "      <td>-0.061426</td>\n",
              "      <td>0.031220</td>\n",
              "      <td>-0.036200</td>\n",
              "      <td>0.261391</td>\n",
              "      <td>0.267649</td>\n",
              "      <td>1.000000</td>\n",
              "      <td>-0.193622</td>\n",
              "      <td>-0.014757</td>\n",
              "      <td>0.027473</td>\n",
              "      <td>-0.029941</td>\n",
              "      <td>0.193054</td>\n",
              "      <td>0.535786</td>\n",
              "      <td>0.176825</td>\n",
              "      <td>0.171402</td>\n",
              "      <td>0.008062</td>\n",
              "      <td>-0.046245</td>\n",
              "      <td>-0.021070</td>\n",
              "      <td>0.023586</td>\n",
              "      <td>0.015854</td>\n",
              "      <td>-0.013005</td>\n",
              "      <td>-0.002773</td>\n",
              "      <td>0.162809</td>\n",
              "      <td>0.050972</td>\n",
              "      <td>0.258768</td>\n",
              "      <td>0.074545</td>\n",
              "      <td>0.096051</td>\n",
              "      <td>-0.011710</td>\n",
              "      <td>0.063411</td>\n",
              "      <td>0.714741</td>\n",
              "    </tr>\n",
              "    <tr>\n",
              "      <th>Domain_registration_length</th>\n",
              "      <td>-0.022739</td>\n",
              "      <td>-0.221892</td>\n",
              "      <td>0.060923</td>\n",
              "      <td>0.015522</td>\n",
              "      <td>0.047464</td>\n",
              "      <td>-0.096799</td>\n",
              "      <td>-0.082839</td>\n",
              "      <td>-0.193622</td>\n",
              "      <td>1.000000</td>\n",
              "      <td>0.054253</td>\n",
              "      <td>0.022478</td>\n",
              "      <td>0.059161</td>\n",
              "      <td>-0.609970</td>\n",
              "      <td>-0.160257</td>\n",
              "      <td>-0.101084</td>\n",
              "      <td>-0.136422</td>\n",
              "      <td>0.039260</td>\n",
              "      <td>0.058109</td>\n",
              "      <td>-0.016300</td>\n",
              "      <td>0.023784</td>\n",
              "      <td>0.023520</td>\n",
              "      <td>0.051410</td>\n",
              "      <td>0.004393</td>\n",
              "      <td>-0.062851</td>\n",
              "      <td>-0.010477</td>\n",
              "      <td>-0.134454</td>\n",
              "      <td>-0.059898</td>\n",
              "      <td>-0.039766</td>\n",
              "      <td>0.122672</td>\n",
              "      <td>-0.002212</td>\n",
              "      <td>-0.225789</td>\n",
              "    </tr>\n",
              "    <tr>\n",
              "      <th>Favion</th>\n",
              "      <td>0.087025</td>\n",
              "      <td>-0.042497</td>\n",
              "      <td>0.006101</td>\n",
              "      <td>0.304899</td>\n",
              "      <td>0.035100</td>\n",
              "      <td>-0.007504</td>\n",
              "      <td>-0.016704</td>\n",
              "      <td>-0.014757</td>\n",
              "      <td>0.054253</td>\n",
              "      <td>1.000000</td>\n",
              "      <td>0.803834</td>\n",
              "      <td>0.049483</td>\n",
              "      <td>-0.004620</td>\n",
              "      <td>0.037698</td>\n",
              "      <td>-0.100341</td>\n",
              "      <td>-0.012279</td>\n",
              "      <td>0.668317</td>\n",
              "      <td>0.071848</td>\n",
              "      <td>-0.015621</td>\n",
              "      <td>0.706179</td>\n",
              "      <td>0.414382</td>\n",
              "      <td>0.939633</td>\n",
              "      <td>0.627607</td>\n",
              "      <td>-0.002628</td>\n",
              "      <td>0.088211</td>\n",
              "      <td>-0.050922</td>\n",
              "      <td>0.011699</td>\n",
              "      <td>-0.016668</td>\n",
              "      <td>-0.127243</td>\n",
              "      <td>0.300917</td>\n",
              "      <td>-0.000280</td>\n",
              "    </tr>\n",
              "    <tr>\n",
              "      <th>Port</th>\n",
              "      <td>0.060979</td>\n",
              "      <td>0.000323</td>\n",
              "      <td>0.002201</td>\n",
              "      <td>0.364891</td>\n",
              "      <td>0.025060</td>\n",
              "      <td>-0.022546</td>\n",
              "      <td>0.004863</td>\n",
              "      <td>0.027473</td>\n",
              "      <td>0.022478</td>\n",
              "      <td>0.803834</td>\n",
              "      <td>1.000000</td>\n",
              "      <td>0.004999</td>\n",
              "      <td>0.027561</td>\n",
              "      <td>0.039891</td>\n",
              "      <td>-0.066502</td>\n",
              "      <td>0.006672</td>\n",
              "      <td>0.799088</td>\n",
              "      <td>0.054126</td>\n",
              "      <td>-0.022472</td>\n",
              "      <td>0.623298</td>\n",
              "      <td>0.481631</td>\n",
              "      <td>0.748517</td>\n",
              "      <td>0.687044</td>\n",
              "      <td>0.008459</td>\n",
              "      <td>0.054849</td>\n",
              "      <td>-0.028543</td>\n",
              "      <td>0.017954</td>\n",
              "      <td>-0.005413</td>\n",
              "      <td>-0.139104</td>\n",
              "      <td>0.343987</td>\n",
              "      <td>0.036419</td>\n",
              "    </tr>\n",
              "    <tr>\n",
              "      <th>HTTPS_token</th>\n",
              "      <td>0.363534</td>\n",
              "      <td>-0.089383</td>\n",
              "      <td>0.757838</td>\n",
              "      <td>0.104561</td>\n",
              "      <td>0.760799</td>\n",
              "      <td>-0.070153</td>\n",
              "      <td>-0.037239</td>\n",
              "      <td>-0.029941</td>\n",
              "      <td>0.059161</td>\n",
              "      <td>0.049483</td>\n",
              "      <td>0.004999</td>\n",
              "      <td>1.000000</td>\n",
              "      <td>-0.006620</td>\n",
              "      <td>0.011851</td>\n",
              "      <td>-0.104381</td>\n",
              "      <td>-0.009680</td>\n",
              "      <td>0.075478</td>\n",
              "      <td>0.716287</td>\n",
              "      <td>-0.460165</td>\n",
              "      <td>0.110113</td>\n",
              "      <td>0.009265</td>\n",
              "      <td>0.066957</td>\n",
              "      <td>0.017509</td>\n",
              "      <td>-0.049632</td>\n",
              "      <td>0.395387</td>\n",
              "      <td>-0.039708</td>\n",
              "      <td>0.021104</td>\n",
              "      <td>0.115450</td>\n",
              "      <td>-0.128724</td>\n",
              "      <td>0.096187</td>\n",
              "      <td>-0.039854</td>\n",
              "    </tr>\n",
              "    <tr>\n",
              "      <th>Request_URL</th>\n",
              "      <td>0.029773</td>\n",
              "      <td>0.246348</td>\n",
              "      <td>-0.037235</td>\n",
              "      <td>0.027909</td>\n",
              "      <td>-0.026368</td>\n",
              "      <td>0.098675</td>\n",
              "      <td>0.104857</td>\n",
              "      <td>0.193054</td>\n",
              "      <td>-0.609970</td>\n",
              "      <td>-0.004620</td>\n",
              "      <td>0.027561</td>\n",
              "      <td>-0.006620</td>\n",
              "      <td>1.000000</td>\n",
              "      <td>0.177693</td>\n",
              "      <td>0.067491</td>\n",
              "      <td>0.126661</td>\n",
              "      <td>0.018178</td>\n",
              "      <td>-0.036034</td>\n",
              "      <td>0.002329</td>\n",
              "      <td>0.008144</td>\n",
              "      <td>-0.020452</td>\n",
              "      <td>-0.004622</td>\n",
              "      <td>0.016934</td>\n",
              "      <td>0.090455</td>\n",
              "      <td>0.015933</td>\n",
              "      <td>0.161166</td>\n",
              "      <td>0.055734</td>\n",
              "      <td>0.046409</td>\n",
              "      <td>-0.067109</td>\n",
              "      <td>0.035412</td>\n",
              "      <td>0.253372</td>\n",
              "    </tr>\n",
              "    <tr>\n",
              "      <th>URL_of_Anchor</th>\n",
              "      <td>0.099847</td>\n",
              "      <td>-0.023396</td>\n",
              "      <td>0.000561</td>\n",
              "      <td>0.057914</td>\n",
              "      <td>-0.005036</td>\n",
              "      <td>0.348871</td>\n",
              "      <td>0.229491</td>\n",
              "      <td>0.535786</td>\n",
              "      <td>-0.160257</td>\n",
              "      <td>0.037698</td>\n",
              "      <td>0.039891</td>\n",
              "      <td>0.011851</td>\n",
              "      <td>0.177693</td>\n",
              "      <td>1.000000</td>\n",
              "      <td>0.136283</td>\n",
              "      <td>0.114311</td>\n",
              "      <td>0.033386</td>\n",
              "      <td>-0.010585</td>\n",
              "      <td>-0.000839</td>\n",
              "      <td>0.067742</td>\n",
              "      <td>0.022168</td>\n",
              "      <td>0.041150</td>\n",
              "      <td>0.013403</td>\n",
              "      <td>0.075508</td>\n",
              "      <td>0.093288</td>\n",
              "      <td>0.326293</td>\n",
              "      <td>0.099261</td>\n",
              "      <td>0.038816</td>\n",
              "      <td>0.018651</td>\n",
              "      <td>0.077377</td>\n",
              "      <td>0.692935</td>\n",
              "    </tr>\n",
              "    <tr>\n",
              "      <th>Links_in_tags</th>\n",
              "      <td>0.006212</td>\n",
              "      <td>0.052869</td>\n",
              "      <td>-0.133379</td>\n",
              "      <td>-0.070861</td>\n",
              "      <td>-0.125583</td>\n",
              "      <td>0.100254</td>\n",
              "      <td>0.093646</td>\n",
              "      <td>0.176825</td>\n",
              "      <td>-0.101084</td>\n",
              "      <td>-0.100341</td>\n",
              "      <td>-0.066502</td>\n",
              "      <td>-0.104381</td>\n",
              "      <td>0.067491</td>\n",
              "      <td>0.136283</td>\n",
              "      <td>1.000000</td>\n",
              "      <td>0.066598</td>\n",
              "      <td>-0.043231</td>\n",
              "      <td>-0.116065</td>\n",
              "      <td>0.041497</td>\n",
              "      <td>-0.077670</td>\n",
              "      <td>-0.037469</td>\n",
              "      <td>-0.112282</td>\n",
              "      <td>-0.070030</td>\n",
              "      <td>0.078057</td>\n",
              "      <td>-0.038545</td>\n",
              "      <td>0.064548</td>\n",
              "      <td>-0.006450</td>\n",
              "      <td>0.045557</td>\n",
              "      <td>0.013561</td>\n",
              "      <td>-0.087343</td>\n",
              "      <td>0.248229</td>\n",
              "    </tr>\n",
              "    <tr>\n",
              "      <th>SFH</th>\n",
              "      <td>-0.010962</td>\n",
              "      <td>0.414196</td>\n",
              "      <td>-0.022723</td>\n",
              "      <td>-0.008672</td>\n",
              "      <td>-0.041672</td>\n",
              "      <td>0.001326</td>\n",
              "      <td>0.096089</td>\n",
              "      <td>0.171402</td>\n",
              "      <td>-0.136422</td>\n",
              "      <td>-0.012279</td>\n",
              "      <td>0.006672</td>\n",
              "      <td>-0.009680</td>\n",
              "      <td>0.126661</td>\n",
              "      <td>0.114311</td>\n",
              "      <td>0.066598</td>\n",
              "      <td>1.000000</td>\n",
              "      <td>0.011473</td>\n",
              "      <td>-0.030752</td>\n",
              "      <td>0.049907</td>\n",
              "      <td>0.007579</td>\n",
              "      <td>0.008467</td>\n",
              "      <td>-0.004863</td>\n",
              "      <td>0.007067</td>\n",
              "      <td>-0.015840</td>\n",
              "      <td>0.034440</td>\n",
              "      <td>0.052706</td>\n",
              "      <td>0.001979</td>\n",
              "      <td>0.027588</td>\n",
              "      <td>-0.009068</td>\n",
              "      <td>-0.005289</td>\n",
              "      <td>0.221419</td>\n",
              "    </tr>\n",
              "    <tr>\n",
              "      <th>Submitting_to_email</th>\n",
              "      <td>0.077989</td>\n",
              "      <td>-0.014457</td>\n",
              "      <td>0.049328</td>\n",
              "      <td>0.370123</td>\n",
              "      <td>0.031898</td>\n",
              "      <td>-0.045000</td>\n",
              "      <td>0.008830</td>\n",
              "      <td>0.008062</td>\n",
              "      <td>0.039260</td>\n",
              "      <td>0.668317</td>\n",
              "      <td>0.799088</td>\n",
              "      <td>0.075478</td>\n",
              "      <td>0.018178</td>\n",
              "      <td>0.033386</td>\n",
              "      <td>-0.043231</td>\n",
              "      <td>0.011473</td>\n",
              "      <td>1.000000</td>\n",
              "      <td>0.195850</td>\n",
              "      <td>-0.007321</td>\n",
              "      <td>0.531656</td>\n",
              "      <td>0.398629</td>\n",
              "      <td>0.629462</td>\n",
              "      <td>0.577490</td>\n",
              "      <td>0.007357</td>\n",
              "      <td>0.064145</td>\n",
              "      <td>-0.015685</td>\n",
              "      <td>0.026208</td>\n",
              "      <td>-0.008378</td>\n",
              "      <td>-0.039956</td>\n",
              "      <td>0.352074</td>\n",
              "      <td>0.018249</td>\n",
              "    </tr>\n",
              "    <tr>\n",
              "      <th>Abnormal_URL</th>\n",
              "      <td>0.336549</td>\n",
              "      <td>-0.106761</td>\n",
              "      <td>0.739290</td>\n",
              "      <td>0.203945</td>\n",
              "      <td>0.723724</td>\n",
              "      <td>-0.077620</td>\n",
              "      <td>-0.034908</td>\n",
              "      <td>-0.046245</td>\n",
              "      <td>0.058109</td>\n",
              "      <td>0.071848</td>\n",
              "      <td>0.054126</td>\n",
              "      <td>0.716287</td>\n",
              "      <td>-0.036034</td>\n",
              "      <td>-0.010585</td>\n",
              "      <td>-0.116065</td>\n",
              "      <td>-0.030752</td>\n",
              "      <td>0.195850</td>\n",
              "      <td>1.000000</td>\n",
              "      <td>-0.459187</td>\n",
              "      <td>0.117638</td>\n",
              "      <td>0.023710</td>\n",
              "      <td>0.091188</td>\n",
              "      <td>0.017590</td>\n",
              "      <td>-0.032533</td>\n",
              "      <td>0.366833</td>\n",
              "      <td>-0.052416</td>\n",
              "      <td>0.007318</td>\n",
              "      <td>0.124751</td>\n",
              "      <td>-0.161027</td>\n",
              "      <td>0.186399</td>\n",
              "      <td>-0.060488</td>\n",
              "    </tr>\n",
              "    <tr>\n",
              "      <th>Redirect</th>\n",
              "      <td>-0.321181</td>\n",
              "      <td>0.046832</td>\n",
              "      <td>-0.534530</td>\n",
              "      <td>-0.028160</td>\n",
              "      <td>-0.591478</td>\n",
              "      <td>0.016271</td>\n",
              "      <td>0.031206</td>\n",
              "      <td>-0.021070</td>\n",
              "      <td>-0.016300</td>\n",
              "      <td>-0.015621</td>\n",
              "      <td>-0.022472</td>\n",
              "      <td>-0.460165</td>\n",
              "      <td>0.002329</td>\n",
              "      <td>-0.000839</td>\n",
              "      <td>0.041497</td>\n",
              "      <td>0.049907</td>\n",
              "      <td>-0.007321</td>\n",
              "      <td>-0.459187</td>\n",
              "      <td>1.000000</td>\n",
              "      <td>-0.034823</td>\n",
              "      <td>-0.023586</td>\n",
              "      <td>-0.026327</td>\n",
              "      <td>-0.012668</td>\n",
              "      <td>-0.022476</td>\n",
              "      <td>-0.211096</td>\n",
              "      <td>0.004631</td>\n",
              "      <td>0.052867</td>\n",
              "      <td>0.057230</td>\n",
              "      <td>0.161278</td>\n",
              "      <td>-0.059194</td>\n",
              "      <td>-0.020113</td>\n",
              "    </tr>\n",
              "    <tr>\n",
              "      <th>on_movesover</th>\n",
              "      <td>0.084059</td>\n",
              "      <td>-0.045103</td>\n",
              "      <td>0.062383</td>\n",
              "      <td>0.279697</td>\n",
              "      <td>0.086635</td>\n",
              "      <td>0.012578</td>\n",
              "      <td>-0.018082</td>\n",
              "      <td>0.023586</td>\n",
              "      <td>0.023784</td>\n",
              "      <td>0.706179</td>\n",
              "      <td>0.623298</td>\n",
              "      <td>0.110113</td>\n",
              "      <td>0.008144</td>\n",
              "      <td>0.067742</td>\n",
              "      <td>-0.077670</td>\n",
              "      <td>0.007579</td>\n",
              "      <td>0.531656</td>\n",
              "      <td>0.117638</td>\n",
              "      <td>-0.034823</td>\n",
              "      <td>1.000000</td>\n",
              "      <td>0.474054</td>\n",
              "      <td>0.733629</td>\n",
              "      <td>0.659478</td>\n",
              "      <td>0.013306</td>\n",
              "      <td>0.087161</td>\n",
              "      <td>-0.036531</td>\n",
              "      <td>0.015634</td>\n",
              "      <td>-0.006510</td>\n",
              "      <td>-0.038551</td>\n",
              "      <td>0.277347</td>\n",
              "      <td>0.041838</td>\n",
              "    </tr>\n",
              "    <tr>\n",
              "      <th>RightClick</th>\n",
              "      <td>0.042881</td>\n",
              "      <td>-0.013613</td>\n",
              "      <td>0.038118</td>\n",
              "      <td>0.219503</td>\n",
              "      <td>0.025863</td>\n",
              "      <td>-0.024868</td>\n",
              "      <td>0.018230</td>\n",
              "      <td>0.015854</td>\n",
              "      <td>0.023520</td>\n",
              "      <td>0.414382</td>\n",
              "      <td>0.481631</td>\n",
              "      <td>0.009265</td>\n",
              "      <td>-0.020452</td>\n",
              "      <td>0.022168</td>\n",
              "      <td>-0.037469</td>\n",
              "      <td>0.008467</td>\n",
              "      <td>0.398629</td>\n",
              "      <td>0.023710</td>\n",
              "      <td>-0.023586</td>\n",
              "      <td>0.474054</td>\n",
              "      <td>1.000000</td>\n",
              "      <td>0.415268</td>\n",
              "      <td>0.655863</td>\n",
              "      <td>0.006764</td>\n",
              "      <td>0.038255</td>\n",
              "      <td>-0.013594</td>\n",
              "      <td>0.025341</td>\n",
              "      <td>-0.008066</td>\n",
              "      <td>-0.119831</td>\n",
              "      <td>0.204409</td>\n",
              "      <td>0.012653</td>\n",
              "    </tr>\n",
              "    <tr>\n",
              "      <th>PopUpwindow</th>\n",
              "      <td>0.096882</td>\n",
              "      <td>-0.049381</td>\n",
              "      <td>0.036616</td>\n",
              "      <td>0.290893</td>\n",
              "      <td>0.054463</td>\n",
              "      <td>-0.014733</td>\n",
              "      <td>-0.025312</td>\n",
              "      <td>-0.013005</td>\n",
              "      <td>0.051410</td>\n",
              "      <td>0.939633</td>\n",
              "      <td>0.748517</td>\n",
              "      <td>0.066957</td>\n",
              "      <td>-0.004622</td>\n",
              "      <td>0.041150</td>\n",
              "      <td>-0.112282</td>\n",
              "      <td>-0.004863</td>\n",
              "      <td>0.629462</td>\n",
              "      <td>0.091188</td>\n",
              "      <td>-0.026327</td>\n",
              "      <td>0.733629</td>\n",
              "      <td>0.415268</td>\n",
              "      <td>1.000000</td>\n",
              "      <td>0.629406</td>\n",
              "      <td>-0.000948</td>\n",
              "      <td>0.098658</td>\n",
              "      <td>-0.043190</td>\n",
              "      <td>0.017114</td>\n",
              "      <td>-0.010256</td>\n",
              "      <td>-0.121325</td>\n",
              "      <td>0.285261</td>\n",
              "      <td>0.000086</td>\n",
              "    </tr>\n",
              "    <tr>\n",
              "      <th>IFrame</th>\n",
              "      <td>0.054694</td>\n",
              "      <td>-0.013838</td>\n",
              "      <td>0.016581</td>\n",
              "      <td>0.284410</td>\n",
              "      <td>0.010459</td>\n",
              "      <td>-0.036904</td>\n",
              "      <td>0.010637</td>\n",
              "      <td>-0.002773</td>\n",
              "      <td>0.004393</td>\n",
              "      <td>0.627607</td>\n",
              "      <td>0.687044</td>\n",
              "      <td>0.017509</td>\n",
              "      <td>0.016934</td>\n",
              "      <td>0.013403</td>\n",
              "      <td>-0.070030</td>\n",
              "      <td>0.007067</td>\n",
              "      <td>0.577490</td>\n",
              "      <td>0.017590</td>\n",
              "      <td>-0.012668</td>\n",
              "      <td>0.659478</td>\n",
              "      <td>0.655863</td>\n",
              "      <td>0.629406</td>\n",
              "      <td>1.000000</td>\n",
              "      <td>0.018848</td>\n",
              "      <td>0.047293</td>\n",
              "      <td>-0.022080</td>\n",
              "      <td>0.022407</td>\n",
              "      <td>-0.003519</td>\n",
              "      <td>-0.140824</td>\n",
              "      <td>0.268418</td>\n",
              "      <td>-0.003394</td>\n",
              "    </tr>\n",
              "    <tr>\n",
              "      <th>age_of_domain</th>\n",
              "      <td>-0.010446</td>\n",
              "      <td>0.179426</td>\n",
              "      <td>-0.052596</td>\n",
              "      <td>-0.005499</td>\n",
              "      <td>-0.050107</td>\n",
              "      <td>0.074116</td>\n",
              "      <td>0.119254</td>\n",
              "      <td>0.162809</td>\n",
              "      <td>-0.062851</td>\n",
              "      <td>-0.002628</td>\n",
              "      <td>0.008459</td>\n",
              "      <td>-0.049632</td>\n",
              "      <td>0.090455</td>\n",
              "      <td>0.075508</td>\n",
              "      <td>0.078057</td>\n",
              "      <td>-0.015840</td>\n",
              "      <td>0.007357</td>\n",
              "      <td>-0.032533</td>\n",
              "      <td>-0.022476</td>\n",
              "      <td>0.013306</td>\n",
              "      <td>0.006764</td>\n",
              "      <td>-0.000948</td>\n",
              "      <td>0.018848</td>\n",
              "      <td>1.000000</td>\n",
              "      <td>-0.034082</td>\n",
              "      <td>0.089949</td>\n",
              "      <td>-0.147194</td>\n",
              "      <td>-0.028471</td>\n",
              "      <td>0.040407</td>\n",
              "      <td>0.009115</td>\n",
              "      <td>0.121496</td>\n",
              "    </tr>\n",
              "    <tr>\n",
              "      <th>DNSRecord</th>\n",
              "      <td>-0.050733</td>\n",
              "      <td>-0.040823</td>\n",
              "      <td>0.436064</td>\n",
              "      <td>-0.047872</td>\n",
              "      <td>0.431409</td>\n",
              "      <td>-0.016556</td>\n",
              "      <td>0.125493</td>\n",
              "      <td>0.050972</td>\n",
              "      <td>-0.010477</td>\n",
              "      <td>0.088211</td>\n",
              "      <td>0.054849</td>\n",
              "      <td>0.395387</td>\n",
              "      <td>0.015933</td>\n",
              "      <td>0.093288</td>\n",
              "      <td>-0.038545</td>\n",
              "      <td>0.034440</td>\n",
              "      <td>0.064145</td>\n",
              "      <td>0.366833</td>\n",
              "      <td>-0.211096</td>\n",
              "      <td>0.087161</td>\n",
              "      <td>0.038255</td>\n",
              "      <td>0.098658</td>\n",
              "      <td>0.047293</td>\n",
              "      <td>-0.034082</td>\n",
              "      <td>1.000000</td>\n",
              "      <td>0.048650</td>\n",
              "      <td>0.137860</td>\n",
              "      <td>0.137509</td>\n",
              "      <td>-0.318266</td>\n",
              "      <td>0.136860</td>\n",
              "      <td>0.075718</td>\n",
              "    </tr>\n",
              "    <tr>\n",
              "      <th>web_traffic</th>\n",
              "      <td>0.002922</td>\n",
              "      <td>0.008993</td>\n",
              "      <td>-0.047074</td>\n",
              "      <td>0.032918</td>\n",
              "      <td>-0.062369</td>\n",
              "      <td>0.110598</td>\n",
              "      <td>-0.005764</td>\n",
              "      <td>0.258768</td>\n",
              "      <td>-0.134454</td>\n",
              "      <td>-0.050922</td>\n",
              "      <td>-0.028543</td>\n",
              "      <td>-0.039708</td>\n",
              "      <td>0.161166</td>\n",
              "      <td>0.326293</td>\n",
              "      <td>0.064548</td>\n",
              "      <td>0.052706</td>\n",
              "      <td>-0.015685</td>\n",
              "      <td>-0.052416</td>\n",
              "      <td>0.004631</td>\n",
              "      <td>-0.036531</td>\n",
              "      <td>-0.013594</td>\n",
              "      <td>-0.043190</td>\n",
              "      <td>-0.022080</td>\n",
              "      <td>0.089949</td>\n",
              "      <td>0.048650</td>\n",
              "      <td>1.000000</td>\n",
              "      <td>0.030984</td>\n",
              "      <td>-0.012584</td>\n",
              "      <td>-0.019860</td>\n",
              "      <td>0.009223</td>\n",
              "      <td>0.346103</td>\n",
              "    </tr>\n",
              "    <tr>\n",
              "      <th>Page_Rank</th>\n",
              "      <td>-0.091774</td>\n",
              "      <td>0.183518</td>\n",
              "      <td>0.014591</td>\n",
              "      <td>-0.064735</td>\n",
              "      <td>-0.003132</td>\n",
              "      <td>-0.006834</td>\n",
              "      <td>0.120730</td>\n",
              "      <td>0.074545</td>\n",
              "      <td>-0.059898</td>\n",
              "      <td>0.011699</td>\n",
              "      <td>0.017954</td>\n",
              "      <td>0.021104</td>\n",
              "      <td>0.055734</td>\n",
              "      <td>0.099261</td>\n",
              "      <td>-0.006450</td>\n",
              "      <td>0.001979</td>\n",
              "      <td>0.026208</td>\n",
              "      <td>0.007318</td>\n",
              "      <td>0.052867</td>\n",
              "      <td>0.015634</td>\n",
              "      <td>0.025341</td>\n",
              "      <td>0.017114</td>\n",
              "      <td>0.022407</td>\n",
              "      <td>-0.147194</td>\n",
              "      <td>0.137860</td>\n",
              "      <td>0.030984</td>\n",
              "      <td>1.000000</td>\n",
              "      <td>0.032431</td>\n",
              "      <td>-0.028216</td>\n",
              "      <td>0.031049</td>\n",
              "      <td>0.104645</td>\n",
              "    </tr>\n",
              "    <tr>\n",
              "      <th>Google_Index</th>\n",
              "      <td>0.029153</td>\n",
              "      <td>0.002902</td>\n",
              "      <td>0.155844</td>\n",
              "      <td>0.037061</td>\n",
              "      <td>0.178415</td>\n",
              "      <td>0.067781</td>\n",
              "      <td>0.057673</td>\n",
              "      <td>0.096051</td>\n",
              "      <td>-0.039766</td>\n",
              "      <td>-0.016668</td>\n",
              "      <td>-0.005413</td>\n",
              "      <td>0.115450</td>\n",
              "      <td>0.046409</td>\n",
              "      <td>0.038816</td>\n",
              "      <td>0.045557</td>\n",
              "      <td>0.027588</td>\n",
              "      <td>-0.008378</td>\n",
              "      <td>0.124751</td>\n",
              "      <td>0.057230</td>\n",
              "      <td>-0.006510</td>\n",
              "      <td>-0.008066</td>\n",
              "      <td>-0.010256</td>\n",
              "      <td>-0.003519</td>\n",
              "      <td>-0.028471</td>\n",
              "      <td>0.137509</td>\n",
              "      <td>-0.012584</td>\n",
              "      <td>0.032431</td>\n",
              "      <td>1.000000</td>\n",
              "      <td>-0.038777</td>\n",
              "      <td>-0.005103</td>\n",
              "      <td>0.128950</td>\n",
              "    </tr>\n",
              "    <tr>\n",
              "      <th>Links_pointing_to_page</th>\n",
              "      <td>-0.339065</td>\n",
              "      <td>-0.022987</td>\n",
              "      <td>-0.198410</td>\n",
              "      <td>-0.006080</td>\n",
              "      <td>-0.194165</td>\n",
              "      <td>0.067423</td>\n",
              "      <td>-0.010526</td>\n",
              "      <td>-0.011710</td>\n",
              "      <td>0.122672</td>\n",
              "      <td>-0.127243</td>\n",
              "      <td>-0.139104</td>\n",
              "      <td>-0.128724</td>\n",
              "      <td>-0.067109</td>\n",
              "      <td>0.018651</td>\n",
              "      <td>0.013561</td>\n",
              "      <td>-0.009068</td>\n",
              "      <td>-0.039956</td>\n",
              "      <td>-0.161027</td>\n",
              "      <td>0.161278</td>\n",
              "      <td>-0.038551</td>\n",
              "      <td>-0.119831</td>\n",
              "      <td>-0.121325</td>\n",
              "      <td>-0.140824</td>\n",
              "      <td>0.040407</td>\n",
              "      <td>-0.318266</td>\n",
              "      <td>-0.019860</td>\n",
              "      <td>-0.028216</td>\n",
              "      <td>-0.038777</td>\n",
              "      <td>1.000000</td>\n",
              "      <td>-0.016817</td>\n",
              "      <td>0.032574</td>\n",
              "    </tr>\n",
              "    <tr>\n",
              "      <th>Statistical_Report</th>\n",
              "      <td>-0.019103</td>\n",
              "      <td>-0.067153</td>\n",
              "      <td>0.085461</td>\n",
              "      <td>-0.080357</td>\n",
              "      <td>0.070390</td>\n",
              "      <td>-0.002763</td>\n",
              "      <td>0.081627</td>\n",
              "      <td>0.063411</td>\n",
              "      <td>-0.002212</td>\n",
              "      <td>0.300917</td>\n",
              "      <td>0.343987</td>\n",
              "      <td>0.096187</td>\n",
              "      <td>0.035412</td>\n",
              "      <td>0.077377</td>\n",
              "      <td>-0.087343</td>\n",
              "      <td>-0.005289</td>\n",
              "      <td>0.352074</td>\n",
              "      <td>0.186399</td>\n",
              "      <td>-0.059194</td>\n",
              "      <td>0.277347</td>\n",
              "      <td>0.204409</td>\n",
              "      <td>0.285261</td>\n",
              "      <td>0.268418</td>\n",
              "      <td>0.009115</td>\n",
              "      <td>0.136860</td>\n",
              "      <td>0.009223</td>\n",
              "      <td>0.031049</td>\n",
              "      <td>-0.005103</td>\n",
              "      <td>-0.016817</td>\n",
              "      <td>1.000000</td>\n",
              "      <td>0.079857</td>\n",
              "    </tr>\n",
              "    <tr>\n",
              "      <th>Result</th>\n",
              "      <td>0.094160</td>\n",
              "      <td>0.057430</td>\n",
              "      <td>-0.067966</td>\n",
              "      <td>0.052948</td>\n",
              "      <td>-0.038608</td>\n",
              "      <td>0.348606</td>\n",
              "      <td>0.298323</td>\n",
              "      <td>0.714741</td>\n",
              "      <td>-0.225789</td>\n",
              "      <td>-0.000280</td>\n",
              "      <td>0.036419</td>\n",
              "      <td>-0.039854</td>\n",
              "      <td>0.253372</td>\n",
              "      <td>0.692935</td>\n",
              "      <td>0.248229</td>\n",
              "      <td>0.221419</td>\n",
              "      <td>0.018249</td>\n",
              "      <td>-0.060488</td>\n",
              "      <td>-0.020113</td>\n",
              "      <td>0.041838</td>\n",
              "      <td>0.012653</td>\n",
              "      <td>0.000086</td>\n",
              "      <td>-0.003394</td>\n",
              "      <td>0.121496</td>\n",
              "      <td>0.075718</td>\n",
              "      <td>0.346103</td>\n",
              "      <td>0.104645</td>\n",
              "      <td>0.128950</td>\n",
              "      <td>0.032574</td>\n",
              "      <td>0.079857</td>\n",
              "      <td>1.000000</td>\n",
              "    </tr>\n",
              "  </tbody>\n",
              "</table>\n",
              "</div>"
            ],
            "text/plain": [
              "                            having_IP_Address  ...    Result\n",
              "having_IP_Address                    1.000000  ...  0.094160\n",
              "URL_length                          -0.052411  ...  0.057430\n",
              "Shortining_Service                   0.403461  ... -0.067966\n",
              "having_At_Symbol                     0.158699  ...  0.052948\n",
              "double_slash_redirecting             0.397389  ... -0.038608\n",
              "Prefix_suffix                       -0.005257  ...  0.348606\n",
              "having_Sub_Domain                   -0.080745  ...  0.298323\n",
              "SSLfinal_State                       0.071414  ...  0.714741\n",
              "Domain_registration_length          -0.022739  ... -0.225789\n",
              "Favion                               0.087025  ... -0.000280\n",
              "Port                                 0.060979  ...  0.036419\n",
              "HTTPS_token                          0.363534  ... -0.039854\n",
              "Request_URL                          0.029773  ...  0.253372\n",
              "URL_of_Anchor                        0.099847  ...  0.692935\n",
              "Links_in_tags                        0.006212  ...  0.248229\n",
              "SFH                                 -0.010962  ...  0.221419\n",
              "Submitting_to_email                  0.077989  ...  0.018249\n",
              "Abnormal_URL                         0.336549  ... -0.060488\n",
              "Redirect                            -0.321181  ... -0.020113\n",
              "on_movesover                         0.084059  ...  0.041838\n",
              "RightClick                           0.042881  ...  0.012653\n",
              "PopUpwindow                          0.096882  ...  0.000086\n",
              "IFrame                               0.054694  ... -0.003394\n",
              "age_of_domain                       -0.010446  ...  0.121496\n",
              "DNSRecord                           -0.050733  ...  0.075718\n",
              "web_traffic                          0.002922  ...  0.346103\n",
              "Page_Rank                           -0.091774  ...  0.104645\n",
              "Google_Index                         0.029153  ...  0.128950\n",
              "Links_pointing_to_page              -0.339065  ...  0.032574\n",
              "Statistical_Report                  -0.019103  ...  0.079857\n",
              "Result                               0.094160  ...  1.000000\n",
              "\n",
              "[31 rows x 31 columns]"
            ]
          },
          "metadata": {
            "tags": []
          },
          "execution_count": 13
        }
      ]
    },
    {
      "cell_type": "code",
      "metadata": {
        "id": "m-5U3NTI66GE",
        "colab_type": "code",
        "colab": {
          "base_uri": "https://localhost:8080/",
          "height": 415
        },
        "outputId": "cc0ce1f0-2e4e-41d3-b2f3-66a59f6a4976"
      },
      "source": [
        "sns.heatmap(data.corr(),cmap ='viridis',linecolor = 'black')"
      ],
      "execution_count": null,
      "outputs": [
        {
          "output_type": "execute_result",
          "data": {
            "text/plain": [
              "<matplotlib.axes._subplots.AxesSubplot at 0x7f31331f8898>"
            ]
          },
          "metadata": {
            "tags": []
          },
          "execution_count": 15
        },
        {
          "output_type": "display_data",
          "data": {
            "image/png": "[encoded data removed]",
            "text/plain": [
              "<Figure size 432x288 with 2 Axes>"
            ]
          },
          "metadata": {
            "tags": [],
            "needs_background": "light"
          }
        }
      ]
    },
    {
      "cell_type": "code",
      "metadata": {
        "id": "Kth0w1gd7BsZ",
        "colab_type": "code",
        "colab": {}
      },
      "source": [
        "X = data.iloc[:,0:30].values"
      ],
      "execution_count": null,
      "outputs": []
    },
    {
      "cell_type": "code",
      "metadata": {
        "id": "2IqEW1r-7Lnp",
        "colab_type": "code",
        "colab": {
          "base_uri": "https://localhost:8080/",
          "height": 34
        },
        "outputId": "892f536f-6d8a-4eac-f977-d36e3c3602f5"
      },
      "source": [
        "X.shape"
      ],
      "execution_count": null,
      "outputs": [
        {
          "output_type": "execute_result",
          "data": {
            "text/plain": [
              "(11055, 30)"
            ]
          },
          "metadata": {
            "tags": []
          },
          "execution_count": 17
        }
      ]
    },
    {
      "cell_type": "code",
      "metadata": {
        "id": "6OVg-Qo07NjA",
        "colab_type": "code",
        "colab": {}
      },
      "source": [
        "y = data.loc[:,['Result']].values"
      ],
      "execution_count": null,
      "outputs": []
    },
    {
      "cell_type": "code",
      "metadata": {
        "id": "PewkkMFp7OPf",
        "colab_type": "code",
        "colab": {
          "base_uri": "https://localhost:8080/",
          "height": 34
        },
        "outputId": "6771a8a6-e6c3-4ab5-bc12-b2e40d42387b"
      },
      "source": [
        "y.shape"
      ],
      "execution_count": null,
      "outputs": [
        {
          "output_type": "execute_result",
          "data": {
            "text/plain": [
              "(11055, 1)"
            ]
          },
          "metadata": {
            "tags": []
          },
          "execution_count": 19
        }
      ]
    },
    {
      "cell_type": "code",
      "metadata": {
        "id": "2bk5PoXU7OSY",
        "colab_type": "code",
        "colab": {}
      },
      "source": [
        "from sklearn.model_selection import train_test_split\n",
        "X_train,X_test,y_train,y_test = train_test_split(X,y,test_size =0.30,random_state =1)\n"
      ],
      "execution_count": null,
      "outputs": []
    },
    {
      "cell_type": "code",
      "metadata": {
        "id": "68-s7wgC7OU5",
        "colab_type": "code",
        "colab": {
          "base_uri": "https://localhost:8080/",
          "height": 85
        },
        "outputId": "00408d10-a0bb-4a37-c61c-014f30d6f951"
      },
      "source": [
        "print(X_train.shape)\n",
        "print(X_test.shape)\n",
        "print(y_train.shape)\n",
        "print(y_test.shape)\n"
      ],
      "execution_count": null,
      "outputs": [
        {
          "output_type": "stream",
          "text": [
            "(7738, 30)\n",
            "(3317, 30)\n",
            "(7738, 1)\n",
            "(3317, 1)\n"
          ],
          "name": "stdout"
        }
      ]
    },
    {
      "cell_type": "code",
      "metadata": {
        "id": "iJoInPz47OXx",
        "colab_type": "code",
        "colab": {}
      },
      "source": [
        "# Importing the classifier from linear model \n",
        "from sklearn.linear_model import LogisticRegression\n",
        "classifier = LogisticRegression()\n"
      ],
      "execution_count": null,
      "outputs": []
    },
    {
      "cell_type": "code",
      "metadata": {
        "id": "HozNxUPi7Oa-",
        "colab_type": "code",
        "colab": {
          "base_uri": "https://localhost:8080/",
          "height": 54
        },
        "outputId": "d6080f4c-4a37-42a5-8945-dfea077b02d0"
      },
      "source": [
        "classifier.get_params().keys()"
      ],
      "execution_count": null,
      "outputs": [
        {
          "output_type": "execute_result",
          "data": {
            "text/plain": [
              "dict_keys(['C', 'class_weight', 'dual', 'fit_intercept', 'intercept_scaling', 'l1_ratio', 'max_iter', 'multi_class', 'n_jobs', 'penalty', 'random_state', 'solver', 'tol', 'verbose', 'warm_start'])"
            ]
          },
          "metadata": {
            "tags": []
          },
          "execution_count": 23
        }
      ]
    },
    {
      "cell_type": "code",
      "metadata": {
        "id": "LImnKThd7One",
        "colab_type": "code",
        "colab": {
          "base_uri": "https://localhost:8080/",
          "height": 51
        },
        "outputId": "1a5859bc-f132-4d78-cae9-d69ebc898eb4"
      },
      "source": [
        "# applying grid search to find best performing parameters\n",
        "from sklearn.model_selection import GridSearchCV\n",
        "parameters = [{'C':[0.001,0.01,0.1,1,10,100,1000],\n",
        "               'penalty':['l1','l2']\n",
        "              }]\n",
        "grid_search = GridSearchCV(classifier,parameters,cv=5,n_jobs =-1)\n",
        "grid_search.fit(X_train,y_train)\n",
        "# Printing best parameters\n",
        "print('Best Accuracy =',(grid_search.best_score_))\n",
        "print('Best parameters = ',(grid_search.best_params_))"
      ],
      "execution_count": null,
      "outputs": [
        {
          "output_type": "stream",
          "text": [
            "Best Accuracy = 0.9280177187153932\n",
            "Best parameters =  {'C': 0.1, 'penalty': 'l2'}\n"
          ],
          "name": "stdout"
        }
      ]
    },
    {
      "cell_type": "code",
      "metadata": {
        "id": "vdQidU5g7OmB",
        "colab_type": "code",
        "colab": {}
      },
      "source": [
        "# Instantiate the classifier Logistic Regression\n",
        "classifier = LogisticRegression(C=0.1,penalty ='l2')\n"
      ],
      "execution_count": null,
      "outputs": []
    },
    {
      "cell_type": "code",
      "metadata": {
        "id": "wmLiYNv27Ofl",
        "colab_type": "code",
        "colab": {
          "base_uri": "https://localhost:8080/",
          "height": 102
        },
        "outputId": "5236f2af-c319-4d0c-a836-333c7f801d30"
      },
      "source": [
        "# Fitting the classifier or model on training dataset to train\n",
        "classifier.fit(X_train,y_train)\n"
      ],
      "execution_count": null,
      "outputs": [
        {
          "output_type": "execute_result",
          "data": {
            "text/plain": [
              "LogisticRegression(C=0.1, class_weight=None, dual=False, fit_intercept=True,\n",
              "                   intercept_scaling=1, l1_ratio=None, max_iter=100,\n",
              "                   multi_class='auto', n_jobs=None, penalty='l2',\n",
              "                   random_state=None, solver='lbfgs', tol=0.0001, verbose=0,\n",
              "                   warm_start=False)"
            ]
          },
          "metadata": {
            "tags": []
          },
          "execution_count": 26
        }
      ]
    },
    {
      "cell_type": "code",
      "metadata": {
        "id": "VQFb6ZJY7OeN",
        "colab_type": "code",
        "colab": {}
      },
      "source": [
        "# Predicting the values on test dataset\n",
        "y_pred = classifier.predict(X_test)"
      ],
      "execution_count": null,
      "outputs": []
    },
    {
      "cell_type": "code",
      "metadata": {
        "id": "BGtkx9BA7tSu",
        "colab_type": "code",
        "colab": {
          "base_uri": "https://localhost:8080/",
          "height": 51
        },
        "outputId": "d0ab0766-c0c7-4802-dc10-18168dc4a24b"
      },
      "source": [
        "# Confusion matrix for the LR classifier\n",
        "from sklearn.metrics import confusion_matrix\n",
        "cm = confusion_matrix(y_test,y_pred)\n",
        "cm"
      ],
      "execution_count": null,
      "outputs": [
        {
          "output_type": "execute_result",
          "data": {
            "text/plain": [
              "array([[1341,  149],\n",
              "       [  93, 1734]])"
            ]
          },
          "metadata": {
            "tags": []
          },
          "execution_count": 28
        }
      ]
    },
    {
      "cell_type": "code",
      "metadata": {
        "id": "zT3CQFe-7tmf",
        "colab_type": "code",
        "colab": {
          "base_uri": "https://localhost:8080/",
          "height": 85
        },
        "outputId": "766b05ba-f2cf-4bd4-92c8-6ea5467b1fb9"
      },
      "source": [
        "\n",
        "TP = cm[0][0]\n",
        "print('True Postive  = ',TP)\n",
        "FP = cm[0][1]\n",
        "print('False Postive = ',FP)\n",
        "FN = cm[1][0]\n",
        "print('False Negative = ',FN)\n",
        "TN = cm[1][1]\n",
        "print('True Negative = ',TN)\n"
      ],
      "execution_count": null,
      "outputs": [
        {
          "output_type": "stream",
          "text": [
            "True Postive  =  1341\n",
            "False Postive =  149\n",
            "False Negative =  93\n",
            "True Negative =  1734\n"
          ],
          "name": "stdout"
        }
      ]
    },
    {
      "cell_type": "code",
      "metadata": {
        "id": "A_a2TZRX7tph",
        "colab_type": "code",
        "colab": {
          "base_uri": "https://localhost:8080/",
          "height": 34
        },
        "outputId": "48dd26bb-e3ec-49fe-f130-30bd3991e0ef"
      },
      "source": [
        "from sklearn.metrics import accuracy_score\n",
        "accuracy = accuracy_score(y_test,y_pred)\n",
        "print ('The Accuracy of the LR model : ',round(accuracy*100,ndigits =2),'%')\n",
        "\n"
      ],
      "execution_count": null,
      "outputs": [
        {
          "output_type": "stream",
          "text": [
            "The Accuracy of the LR model :  92.7 %\n"
          ],
          "name": "stdout"
        }
      ]
    },
    {
      "cell_type": "code",
      "metadata": {
        "id": "CdcoVOIs7ttC",
        "colab_type": "code",
        "colab": {}
      },
      "source": [
        "# Random Forest Classification Model\n",
        "from sklearn.ensemble import RandomForestClassifier\n",
        "classifier = RandomForestClassifier(n_estimators =700,\n",
        "                                   criterion ='entropy',\n",
        "                                   max_features ='sqrt',\n",
        "                                   random_state=0)"
      ],
      "execution_count": null,
      "outputs": []
    },
    {
      "cell_type": "code",
      "metadata": {
        "id": "DLv2_2p07tx-",
        "colab_type": "code",
        "colab": {
          "base_uri": "https://localhost:8080/",
          "height": 153
        },
        "outputId": "b962a41e-0512-47e2-d538-dd394b187294"
      },
      "source": [
        "classifier.fit(X_train,y_train)"
      ],
      "execution_count": null,
      "outputs": [
        {
          "output_type": "execute_result",
          "data": {
            "text/plain": [
              "RandomForestClassifier(bootstrap=True, ccp_alpha=0.0, class_weight=None,\n",
              "                       criterion='entropy', max_depth=None, max_features='sqrt',\n",
              "                       max_leaf_nodes=None, max_samples=None,\n",
              "                       min_impurity_decrease=0.0, min_impurity_split=None,\n",
              "                       min_samples_leaf=1, min_samples_split=2,\n",
              "                       min_weight_fraction_leaf=0.0, n_estimators=700,\n",
              "                       n_jobs=None, oob_score=False, random_state=0, verbose=0,\n",
              "                       warm_start=False)"
            ]
          },
          "metadata": {
            "tags": []
          },
          "execution_count": 32
        }
      ]
    },
    {
      "cell_type": "code",
      "metadata": {
        "id": "bf4xrBsD7twY",
        "colab_type": "code",
        "colab": {}
      },
      "source": [
        "y_pred = classifier.predict(X_test)"
      ],
      "execution_count": null,
      "outputs": []
    },
    {
      "cell_type": "code",
      "metadata": {
        "id": "8T1PyBmO8Bli",
        "colab_type": "code",
        "colab": {
          "base_uri": "https://localhost:8080/",
          "height": 51
        },
        "outputId": "d3bfbfcb-818c-48d1-cf25-fe1bfc78f3a2"
      },
      "source": [
        "from sklearn.metrics import confusion_matrix\n",
        "confusion_matrix(y_test,y_pred)"
      ],
      "execution_count": null,
      "outputs": [
        {
          "output_type": "execute_result",
          "data": {
            "text/plain": [
              "array([[1422,   68],\n",
              "       [  35, 1792]])"
            ]
          },
          "metadata": {
            "tags": []
          },
          "execution_count": 34
        }
      ]
    },
    {
      "cell_type": "code",
      "metadata": {
        "id": "xmTruolj8DoI",
        "colab_type": "code",
        "colab": {
          "base_uri": "https://localhost:8080/",
          "height": 34
        },
        "outputId": "4e4de16c-9693-4e13-b607-3778ed9b2dd9"
      },
      "source": [
        "\n",
        "from sklearn.metrics import accuracy_score\n",
        "accuracy = accuracy_score(y_test,y_pred)\n",
        "accuracy\n"
      ],
      "execution_count": null,
      "outputs": [
        {
          "output_type": "execute_result",
          "data": {
            "text/plain": [
              "0.968947844437745"
            ]
          },
          "metadata": {
            "tags": []
          },
          "execution_count": 35
        }
      ]
    },
    {
      "cell_type": "code",
      "metadata": {
        "id": "Lf01xizc8JBg",
        "colab_type": "code",
        "colab": {
          "base_uri": "https://localhost:8080/",
          "height": 187
        },
        "outputId": "23becda7-8570-493c-a1ed-bf0efca5cbd3"
      },
      "source": [
        "# XGBoost Model\n",
        "get_ipython().run_line_magic('time', '')\n",
        "# Importing the XGBoost model from scikit learn ensemble \n",
        "from xgboost import XGBClassifier\n",
        "classifier = XGBClassifier(n_estimator =1000)\n",
        "classifier.fit(X_train,y_train)\n"
      ],
      "execution_count": null,
      "outputs": [
        {
          "output_type": "stream",
          "text": [
            "CPU times: user 3 µs, sys: 0 ns, total: 3 µs\n",
            "Wall time: 6.44 µs\n"
          ],
          "name": "stdout"
        },
        {
          "output_type": "execute_result",
          "data": {
            "text/plain": [
              "XGBClassifier(base_score=0.5, booster='gbtree', colsample_bylevel=1,\n",
              "              colsample_bynode=1, colsample_bytree=1, gamma=0,\n",
              "              learning_rate=0.1, max_delta_step=0, max_depth=3,\n",
              "              min_child_weight=1, missing=None, n_estimator=1000,\n",
              "              n_estimators=100, n_jobs=1, nthread=None,\n",
              "              objective='binary:logistic', random_state=0, reg_alpha=0,\n",
              "              reg_lambda=1, scale_pos_weight=1, seed=None, silent=None,\n",
              "              subsample=1, verbosity=1)"
            ]
          },
          "metadata": {
            "tags": []
          },
          "execution_count": 36
        }
      ]
    },
    {
      "cell_type": "code",
      "metadata": {
        "id": "OayJoIwd8PYM",
        "colab_type": "code",
        "colab": {}
      },
      "source": [
        "# Predicting the values on independent variables testing dataset\n",
        "y_pred = classifier.predict(X_test)"
      ],
      "execution_count": null,
      "outputs": []
    },
    {
      "cell_type": "code",
      "metadata": {
        "id": "sQo7-SGz8Ssm",
        "colab_type": "code",
        "colab": {
          "base_uri": "https://localhost:8080/",
          "height": 51
        },
        "outputId": "9fa9e6ca-7ed2-4023-9e3d-99649eacef07"
      },
      "source": [
        "# Confusion matrix for evaluation to get the accuracy of the XGBoost model\n",
        "from sklearn.metrics import confusion_matrix\n",
        "cm = confusion_matrix(y_test,y_pred)\n",
        "cm"
      ],
      "execution_count": null,
      "outputs": [
        {
          "output_type": "execute_result",
          "data": {
            "text/plain": [
              "array([[1370,  120],\n",
              "       [  56, 1771]])"
            ]
          },
          "metadata": {
            "tags": []
          },
          "execution_count": 38
        }
      ]
    },
    {
      "cell_type": "code",
      "metadata": {
        "id": "HFloU2jF8U4J",
        "colab_type": "code",
        "colab": {
          "base_uri": "https://localhost:8080/",
          "height": 282
        },
        "outputId": "1a5ea462-c0a4-44b2-9fb5-18cb26162413"
      },
      "source": [
        "sns.heatmap(cm,annot = True,cmap=\"cividis\")"
      ],
      "execution_count": null,
      "outputs": [
        {
          "output_type": "execute_result",
          "data": {
            "text/plain": [
              "<matplotlib.axes._subplots.AxesSubplot at 0x7f312d19c4e0>"
            ]
          },
          "metadata": {
            "tags": []
          },
          "execution_count": 39
        },
        {
          "output_type": "display_data",
          "data": {
            "image/png": "[encoded data removed]",
            "text/plain": [
              "<Figure size 432x288 with 2 Axes>"
            ]
          },
          "metadata": {
            "tags": [],
            "needs_background": "light"
          }
        }
      ]
    },
    {
      "cell_type": "code",
      "metadata": {
        "id": "hRB4AmEx8W6Z",
        "colab_type": "code",
        "colab": {
          "base_uri": "https://localhost:8080/",
          "height": 34
        },
        "outputId": "cc097b69-37f9-4636-93a2-e7e1c72dbdfe"
      },
      "source": [
        "# Accuracy of the XGBoost model is base on Actual values and predicting values by the model\n",
        "from sklearn.metrics import accuracy_score\n",
        "model_accuracy = accuracy_score(y_test,y_pred)\n",
        "model_accuracy"
      ],
      "execution_count": null,
      "outputs": [
        {
          "output_type": "execute_result",
          "data": {
            "text/plain": [
              "0.9469400060295448"
            ]
          },
          "metadata": {
            "tags": []
          },
          "execution_count": 40
        }
      ]
    },
    {
      "cell_type": "markdown",
      "metadata": {
        "id": "tqpRsA2r8d3U",
        "colab_type": "text"
      },
      "source": [
        "# The Champion Model out of LR,RF and XGBoost is Random Forest of accuracy 96%"
      ]
    },
    {
      "cell_type": "code",
      "metadata": {
        "id": "tWc1ZczL8ZVp",
        "colab_type": "code",
        "colab": {}
      },
      "source": [
        ""
      ],
      "execution_count": null,
      "outputs": []
    },
    {
      "cell_type": "markdown",
      "metadata": {
        "id": "xiTDwHx38lRt",
        "colab_type": "text"
      },
      "source": [
        ""
      ]
    },
    {
      "cell_type": "markdown",
      "metadata": {
        "id": "BmKm4jQs8lZK",
        "colab_type": "text"
      },
      "source": [
        "\n",
        "## Exercies 2\n",
        "\n",
        "- Train with only two input parameters - parameter Prefix_Suffix and 13 URL_of_Anchor.\n",
        "- Check accuracy using the test data and compare the accuracy with the previous value.\n"
      ]
    },
    {
      "cell_type": "code",
      "metadata": {
        "id": "DTem_XMO8ucL",
        "colab_type": "code",
        "colab": {}
      },
      "source": [
        "X1 = data.loc[:,['Prefix_suffix','URL_of_Anchor']].values"
      ],
      "execution_count": null,
      "outputs": []
    },
    {
      "cell_type": "code",
      "metadata": {
        "id": "9RXTPUNZ8yQs",
        "colab_type": "code",
        "colab": {}
      },
      "source": [
        "y1 = data.loc[:,['Result']].values"
      ],
      "execution_count": null,
      "outputs": []
    },
    {
      "cell_type": "code",
      "metadata": {
        "id": "fZs6OeyV8yv4",
        "colab_type": "code",
        "colab": {}
      },
      "source": [
        "X = pd.DataFrame(X1)"
      ],
      "execution_count": null,
      "outputs": []
    },
    {
      "cell_type": "code",
      "metadata": {
        "id": "2wbw2N-28y4o",
        "colab_type": "code",
        "colab": {}
      },
      "source": [
        "y = pd.DataFrame(y)"
      ],
      "execution_count": null,
      "outputs": []
    },
    {
      "cell_type": "code",
      "metadata": {
        "id": "oe12WbDj8y1X",
        "colab_type": "code",
        "colab": {
          "base_uri": "https://localhost:8080/",
          "height": 170
        },
        "outputId": "6389b0da-cca0-4bf1-cd29-0a25b3f94c4a"
      },
      "source": [
        "X.info()"
      ],
      "execution_count": null,
      "outputs": [
        {
          "output_type": "stream",
          "text": [
            "<class 'pandas.core.frame.DataFrame'>\n",
            "RangeIndex: 11055 entries, 0 to 11054\n",
            "Data columns (total 2 columns):\n",
            " #   Column  Non-Null Count  Dtype\n",
            "---  ------  --------------  -----\n",
            " 0   0       11055 non-null  int64\n",
            " 1   1       11055 non-null  int64\n",
            "dtypes: int64(2)\n",
            "memory usage: 172.9 KB\n"
          ],
          "name": "stdout"
        }
      ]
    },
    {
      "cell_type": "code",
      "metadata": {
        "id": "PUUKDFM_8yzU",
        "colab_type": "code",
        "colab": {
          "base_uri": "https://localhost:8080/",
          "height": 111
        },
        "outputId": "d8a13690-dc7c-4ae4-ee7e-a7b6c82660a7"
      },
      "source": [
        "X.describe().transpose()"
      ],
      "execution_count": null,
      "outputs": [
        {
          "output_type": "execute_result",
          "data": {
            "text/html": [
              "<div>\n",
              "<style scoped>\n",
              "    .dataframe tbody tr th:only-of-type {\n",
              "        vertical-align: middle;\n",
              "    }\n",
              "\n",
              "    .dataframe tbody tr th {\n",
              "        vertical-align: top;\n",
              "    }\n",
              "\n",
              "    .dataframe thead th {\n",
              "        text-align: right;\n",
              "    }\n",
              "</style>\n",
              "<table border=\"1\" class=\"dataframe\">\n",
              "  <thead>\n",
              "    <tr style=\"text-align: right;\">\n",
              "      <th></th>\n",
              "      <th>count</th>\n",
              "      <th>mean</th>\n",
              "      <th>std</th>\n",
              "      <th>min</th>\n",
              "      <th>25%</th>\n",
              "      <th>50%</th>\n",
              "      <th>75%</th>\n",
              "      <th>max</th>\n",
              "    </tr>\n",
              "  </thead>\n",
              "  <tbody>\n",
              "    <tr>\n",
              "      <th>0</th>\n",
              "      <td>11055.0</td>\n",
              "      <td>-0.734962</td>\n",
              "      <td>0.678139</td>\n",
              "      <td>-1.0</td>\n",
              "      <td>-1.0</td>\n",
              "      <td>-1.0</td>\n",
              "      <td>-1.0</td>\n",
              "      <td>1.0</td>\n",
              "    </tr>\n",
              "    <tr>\n",
              "      <th>1</th>\n",
              "      <td>11055.0</td>\n",
              "      <td>-0.076526</td>\n",
              "      <td>0.715138</td>\n",
              "      <td>-1.0</td>\n",
              "      <td>-1.0</td>\n",
              "      <td>0.0</td>\n",
              "      <td>0.0</td>\n",
              "      <td>1.0</td>\n",
              "    </tr>\n",
              "  </tbody>\n",
              "</table>\n",
              "</div>"
            ],
            "text/plain": [
              "     count      mean       std  min  25%  50%  75%  max\n",
              "0  11055.0 -0.734962  0.678139 -1.0 -1.0 -1.0 -1.0  1.0\n",
              "1  11055.0 -0.076526  0.715138 -1.0 -1.0  0.0  0.0  1.0"
            ]
          },
          "metadata": {
            "tags": []
          },
          "execution_count": 46
        }
      ]
    },
    {
      "cell_type": "code",
      "metadata": {
        "id": "6bCMKBkP89uk",
        "colab_type": "code",
        "colab": {
          "base_uri": "https://localhost:8080/",
          "height": 404
        },
        "outputId": "79939638-513d-4fd3-99cc-592b0174c5f8"
      },
      "source": [
        "sns.pairplot(X,diag_kind = 'kde')"
      ],
      "execution_count": null,
      "outputs": [
        {
          "output_type": "execute_result",
          "data": {
            "text/plain": [
              "<seaborn.axisgrid.PairGrid at 0x7f31243d6eb8>"
            ]
          },
          "metadata": {
            "tags": []
          },
          "execution_count": 47
        },
        {
          "output_type": "display_data",
          "data": {
            "image/png": "[encoded data removed]",
            "text/plain": [
              "<Figure size 360x360 with 6 Axes>"
            ]
          },
          "metadata": {
            "tags": [],
            "needs_background": "light"
          }
        }
      ]
    },
    {
      "cell_type": "code",
      "metadata": {
        "id": "8AFCXK9R8_qz",
        "colab_type": "code",
        "colab": {
          "base_uri": "https://localhost:8080/",
          "height": 286
        },
        "outputId": "e0f9b885-53b7-4dea-eaeb-038cf9564dee"
      },
      "source": [
        "sns.heatmap(X.corr(),cmap = 'coolwarm',annot =True)"
      ],
      "execution_count": null,
      "outputs": [
        {
          "output_type": "execute_result",
          "data": {
            "text/plain": [
              "<matplotlib.axes._subplots.AxesSubplot at 0x7f3124146940>"
            ]
          },
          "metadata": {
            "tags": []
          },
          "execution_count": 50
        },
        {
          "output_type": "display_data",
          "data": {
            "image/png": "[encoded data removed]",
            "text/plain": [
              "<Figure size 432x288 with 2 Axes>"
            ]
          },
          "metadata": {
            "tags": [],
            "needs_background": "light"
          }
        }
      ]
    },
    {
      "cell_type": "code",
      "metadata": {
        "id": "PnUZb9Ic9Bfj",
        "colab_type": "code",
        "colab": {}
      },
      "source": [
        "# Importing the train_test_split\n",
        "from sklearn.model_selection import train_test_split\n",
        "X_train,X_test,y_train,y_test = train_test_split(X1,y1,test_size =0.30,random_state =1)"
      ],
      "execution_count": null,
      "outputs": []
    },
    {
      "cell_type": "code",
      "metadata": {
        "id": "qE36jVvZ9Mcm",
        "colab_type": "code",
        "colab": {
          "base_uri": "https://localhost:8080/",
          "height": 85
        },
        "outputId": "9f64dc08-4fe6-4331-eed1-c2921f47095d"
      },
      "source": [
        "print(X_train.shape)\n",
        "print(X_test.shape)\n",
        "print(y_train.shape)\n",
        "print(y_test.shape)"
      ],
      "execution_count": null,
      "outputs": [
        {
          "output_type": "stream",
          "text": [
            "(7738, 2)\n",
            "(3317, 2)\n",
            "(7738, 1)\n",
            "(3317, 1)\n"
          ],
          "name": "stdout"
        }
      ]
    },
    {
      "cell_type": "code",
      "metadata": {
        "id": "aA6vtui39OdZ",
        "colab_type": "code",
        "colab": {}
      },
      "source": [
        "# Logistic Regression Model\n",
        "# Importing the classifier from linear model \n",
        "from sklearn.linear_model import LogisticRegression"
      ],
      "execution_count": null,
      "outputs": []
    },
    {
      "cell_type": "code",
      "metadata": {
        "id": "95KxSdJ99PDr",
        "colab_type": "code",
        "colab": {
          "base_uri": "https://localhost:8080/",
          "height": 102
        },
        "outputId": "8d336e9a-90f6-4cc1-ea67-8d2607d9dc76"
      },
      "source": [
        "# Instantiate the classifier Logistic Regression\n",
        "classifier = LogisticRegression()\n",
        "classifier.fit(X_train,y_train)"
      ],
      "execution_count": null,
      "outputs": [
        {
          "output_type": "execute_result",
          "data": {
            "text/plain": [
              "LogisticRegression(C=1.0, class_weight=None, dual=False, fit_intercept=True,\n",
              "                   intercept_scaling=1, l1_ratio=None, max_iter=100,\n",
              "                   multi_class='auto', n_jobs=None, penalty='l2',\n",
              "                   random_state=None, solver='lbfgs', tol=0.0001, verbose=0,\n",
              "                   warm_start=False)"
            ]
          },
          "metadata": {
            "tags": []
          },
          "execution_count": 55
        }
      ]
    },
    {
      "cell_type": "code",
      "metadata": {
        "id": "HPdIW7Y69QGc",
        "colab_type": "code",
        "colab": {}
      },
      "source": [
        "# Predicting the values on independent variables testing dataset\n",
        "y_pred = classifier.predict(X_test)"
      ],
      "execution_count": null,
      "outputs": []
    },
    {
      "cell_type": "code",
      "metadata": {
        "id": "t4e9g4WZ9PwF",
        "colab_type": "code",
        "colab": {
          "base_uri": "https://localhost:8080/",
          "height": 51
        },
        "outputId": "2605c6ee-bb95-49b7-c646-9ec1a6519962"
      },
      "source": [
        "# Confusion matrix for evaluation to get the accuracy of the XGBoost model\n",
        "from sklearn.metrics import confusion_matrix\n",
        "cm = confusion_matrix(y_test,y_pred)\n",
        "cm"
      ],
      "execution_count": null,
      "outputs": [
        {
          "output_type": "execute_result",
          "data": {
            "text/plain": [
              "array([[ 996,  494],\n",
              "       [   3, 1824]])"
            ]
          },
          "metadata": {
            "tags": []
          },
          "execution_count": 57
        }
      ]
    },
    {
      "cell_type": "code",
      "metadata": {
        "id": "RUa7LFEy9Ptd",
        "colab_type": "code",
        "colab": {
          "base_uri": "https://localhost:8080/",
          "height": 85
        },
        "outputId": "81fb2c0f-e320-4ac8-8f5b-40001b8d672e"
      },
      "source": [
        "TP = cm[0][0]\n",
        "print('True Postive  = ',TP)\n",
        "FP = cm[0][1]\n",
        "print('False Postive = ',FP)\n",
        "FN = cm[1][0]\n",
        "print('False Negative = ',FN)\n",
        "TN = cm[1][1]\n",
        "print('True Negative = ',TN)"
      ],
      "execution_count": null,
      "outputs": [
        {
          "output_type": "stream",
          "text": [
            "True Postive  =  996\n",
            "False Postive =  494\n",
            "False Negative =  3\n",
            "True Negative =  1824\n"
          ],
          "name": "stdout"
        }
      ]
    },
    {
      "cell_type": "code",
      "metadata": {
        "id": "yKpmPOgo9Pqx",
        "colab_type": "code",
        "colab": {
          "base_uri": "https://localhost:8080/",
          "height": 34
        },
        "outputId": "017c2b5f-65af-4a72-e12e-464e03460379"
      },
      "source": [
        "# Accuracy of the XGBoost model is base on Actual values and predicting values by the model\n",
        "from sklearn.metrics import accuracy_score\n",
        "model_accuracy = accuracy_score(y_test,y_pred)\n",
        "model_accuracy"
      ],
      "execution_count": null,
      "outputs": [
        {
          "output_type": "execute_result",
          "data": {
            "text/plain": [
              "0.8501658124811576"
            ]
          },
          "metadata": {
            "tags": []
          },
          "execution_count": 59
        }
      ]
    },
    {
      "cell_type": "code",
      "metadata": {
        "id": "JwNseGq_9Pmz",
        "colab_type": "code",
        "colab": {}
      },
      "source": [
        "# Random Forest Classification Model\n",
        "from sklearn.ensemble import RandomForestClassifier\n",
        "classifier = RandomForestClassifier(n_estimators =700,\n",
        "                                   criterion ='entropy',\n",
        "                                   max_features ='sqrt',\n",
        "                                   random_state=0)\n"
      ],
      "execution_count": null,
      "outputs": []
    },
    {
      "cell_type": "code",
      "metadata": {
        "id": "TQfcRIXu9PRb",
        "colab_type": "code",
        "colab": {
          "base_uri": "https://localhost:8080/",
          "height": 153
        },
        "outputId": "56e58d8e-5b23-4e05-9858-ad3ac93808a6"
      },
      "source": [
        "classifier.fit(X_train,y_train)"
      ],
      "execution_count": null,
      "outputs": [
        {
          "output_type": "execute_result",
          "data": {
            "text/plain": [
              "RandomForestClassifier(bootstrap=True, ccp_alpha=0.0, class_weight=None,\n",
              "                       criterion='entropy', max_depth=None, max_features='sqrt',\n",
              "                       max_leaf_nodes=None, max_samples=None,\n",
              "                       min_impurity_decrease=0.0, min_impurity_split=None,\n",
              "                       min_samples_leaf=1, min_samples_split=2,\n",
              "                       min_weight_fraction_leaf=0.0, n_estimators=700,\n",
              "                       n_jobs=None, oob_score=False, random_state=0, verbose=0,\n",
              "                       warm_start=False)"
            ]
          },
          "metadata": {
            "tags": []
          },
          "execution_count": 78
        }
      ]
    },
    {
      "cell_type": "code",
      "metadata": {
        "id": "3tK48eIO9PPS",
        "colab_type": "code",
        "colab": {}
      },
      "source": [
        "# Predicting the values on independent variables testing dataset\n",
        "y_predrf = classifier.predict(X_test)"
      ],
      "execution_count": null,
      "outputs": []
    },
    {
      "cell_type": "code",
      "metadata": {
        "id": "D-mor_7U9PNL",
        "colab_type": "code",
        "colab": {
          "base_uri": "https://localhost:8080/",
          "height": 51
        },
        "outputId": "8760385e-d030-420c-d2ff-12663c0b9194"
      },
      "source": [
        "# Confusion matrix for evaluation to get the accuracy of the XGBoost model\n",
        "from sklearn.metrics import confusion_matrix\n",
        "cm = confusion_matrix(y_test,y_predrf)\n",
        "cm"
      ],
      "execution_count": null,
      "outputs": [
        {
          "output_type": "execute_result",
          "data": {
            "text/plain": [
              "array([[ 996,  494],\n",
              "       [   3, 1824]])"
            ]
          },
          "metadata": {
            "tags": []
          },
          "execution_count": 80
        }
      ]
    },
    {
      "cell_type": "code",
      "metadata": {
        "id": "AqMBHaEZ9PJ6",
        "colab_type": "code",
        "colab": {
          "base_uri": "https://localhost:8080/",
          "height": 85
        },
        "outputId": "38238e14-857e-4e7a-ae4a-0e1fee61c839"
      },
      "source": [
        "TP = cm[0][0]\n",
        "print('True Postive  = ',TP)\n",
        "FP = cm[0][1]\n",
        "print('False Postive = ',FP)\n",
        "FN = cm[1][0]\n",
        "print('False Negative = ',FN)\n",
        "TN = cm[1][1]\n",
        "print('True Negative = ',TN)"
      ],
      "execution_count": null,
      "outputs": [
        {
          "output_type": "stream",
          "text": [
            "True Postive  =  996\n",
            "False Postive =  494\n",
            "False Negative =  3\n",
            "True Negative =  1824\n"
          ],
          "name": "stdout"
        }
      ]
    },
    {
      "cell_type": "code",
      "metadata": {
        "id": "s3SUiz_i9PHz",
        "colab_type": "code",
        "colab": {
          "base_uri": "https://localhost:8080/",
          "height": 34
        },
        "outputId": "911c8b00-c5c0-4cc4-f382-f273b975688d"
      },
      "source": [
        "# Accuracy of the XGBoost model is base on Actual values and predicting values by the model\n",
        "from sklearn.metrics import accuracy_score\n",
        "model_accuracy = accuracy_score(y_test,y_predrf)\n",
        "model_accuracy"
      ],
      "execution_count": null,
      "outputs": [
        {
          "output_type": "execute_result",
          "data": {
            "text/plain": [
              "0.8501658124811576"
            ]
          },
          "metadata": {
            "tags": []
          },
          "execution_count": 82
        }
      ]
    },
    {
      "cell_type": "code",
      "metadata": {
        "id": "3FFCfN2M92K0",
        "colab_type": "code",
        "colab": {
          "base_uri": "https://localhost:8080/",
          "height": 187
        },
        "outputId": "f38e9eeb-b06a-42de-fc0e-4ea6c408fba5"
      },
      "source": [
        "# XGBoost Model\n",
        "get_ipython().run_line_magic('time', '')\n",
        "# Importing the XGBoost model from scikit learn ensemble \n",
        "from xgboost import XGBClassifier\n",
        "classifier = XGBClassifier(n_estimator =1000)\n",
        "classifier.fit(X_train,y_train)\n"
      ],
      "execution_count": null,
      "outputs": [
        {
          "output_type": "stream",
          "text": [
            "CPU times: user 2 µs, sys: 1 µs, total: 3 µs\n",
            "Wall time: 4.77 µs\n"
          ],
          "name": "stdout"
        },
        {
          "output_type": "execute_result",
          "data": {
            "text/plain": [
              "XGBClassifier(base_score=0.5, booster='gbtree', colsample_bylevel=1,\n",
              "              colsample_bynode=1, colsample_bytree=1, gamma=0,\n",
              "              learning_rate=0.1, max_delta_step=0, max_depth=3,\n",
              "              min_child_weight=1, missing=None, n_estimator=1000,\n",
              "              n_estimators=100, n_jobs=1, nthread=None,\n",
              "              objective='binary:logistic', random_state=0, reg_alpha=0,\n",
              "              reg_lambda=1, scale_pos_weight=1, seed=None, silent=None,\n",
              "              subsample=1, verbosity=1)"
            ]
          },
          "metadata": {
            "tags": []
          },
          "execution_count": 70
        }
      ]
    },
    {
      "cell_type": "code",
      "metadata": {
        "id": "K6M-DQ4q97ci",
        "colab_type": "code",
        "colab": {}
      },
      "source": [
        "# Predicting the values on independent variables testing dataset\n",
        "y_pred1 = classifier.predict(X_test)"
      ],
      "execution_count": null,
      "outputs": []
    },
    {
      "cell_type": "code",
      "metadata": {
        "id": "36FPeLOp9_lI",
        "colab_type": "code",
        "colab": {
          "base_uri": "https://localhost:8080/",
          "height": 51
        },
        "outputId": "814d8555-250e-455f-d69f-6eff57dfbf94"
      },
      "source": [
        "# Confusion matrix for evaluation to get the accuracy of the XGBoost model\n",
        "from sklearn.metrics import confusion_matrix\n",
        "cm = confusion_matrix(y_test,y_pred1)\n",
        "cm"
      ],
      "execution_count": null,
      "outputs": [
        {
          "output_type": "execute_result",
          "data": {
            "text/plain": [
              "array([[ 996,  494],\n",
              "       [   3, 1824]])"
            ]
          },
          "metadata": {
            "tags": []
          },
          "execution_count": 72
        }
      ]
    },
    {
      "cell_type": "code",
      "metadata": {
        "id": "S8_qymsS-E86",
        "colab_type": "code",
        "colab": {
          "base_uri": "https://localhost:8080/",
          "height": 34
        },
        "outputId": "51ebb668-fae1-4224-8059-115830ded492"
      },
      "source": [
        "# Accuracy of the XGBoost model is base on Actual values and predicting values by the model\n",
        "from sklearn.metrics import accuracy_score\n",
        "accuracy = accuracy_score(y_test,y_pred1)\n",
        "accuracy"
      ],
      "execution_count": null,
      "outputs": [
        {
          "output_type": "execute_result",
          "data": {
            "text/plain": [
              "0.8501658124811576"
            ]
          },
          "metadata": {
            "tags": []
          },
          "execution_count": 74
        }
      ]
    },
    {
      "cell_type": "code",
      "metadata": {
        "id": "MTv1ac2q-IRr",
        "colab_type": "code",
        "colab": {}
      },
      "source": [
        ""
      ],
      "execution_count": null,
      "outputs": []
    },
    {
      "cell_type": "code",
      "metadata": {
        "id": "4j1MWifO-Ivr",
        "colab_type": "code",
        "colab": {}
      },
      "source": [
        ""
      ],
      "execution_count": null,
      "outputs": []
    },
    {
      "cell_type": "code",
      "metadata": {
        "id": "Gi33IWCT-I7Y",
        "colab_type": "code",
        "colab": {}
      },
      "source": [
        ""
      ],
      "execution_count": null,
      "outputs": []
    },
    {
      "cell_type": "code",
      "metadata": {
        "id": "gOxv0r9M-I2Z",
        "colab_type": "code",
        "colab": {}
      },
      "source": [
        ""
      ],
      "execution_count": null,
      "outputs": []
    }
  ]
}